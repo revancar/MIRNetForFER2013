{
 "cells": [
  {
   "cell_type": "code",
   "execution_count": 1,
   "id": "ebeab1b8",
   "metadata": {
    "execution": {
     "iopub.execute_input": "2022-08-03T04:13:26.743262Z",
     "iopub.status.busy": "2022-08-03T04:13:26.742390Z",
     "iopub.status.idle": "2022-08-03T04:13:32.268246Z",
     "shell.execute_reply": "2022-08-03T04:13:32.267246Z"
    },
    "papermill": {
     "duration": 5.536856,
     "end_time": "2022-08-03T04:13:32.270941",
     "exception": false,
     "start_time": "2022-08-03T04:13:26.734085",
     "status": "completed"
    },
    "tags": []
   },
   "outputs": [],
   "source": [
    "import os\n",
    "import cv2\n",
    "import random\n",
    "import numpy as np\n",
    "from glob import glob\n",
    "from PIL import Image, ImageOps\n",
    "import matplotlib.pyplot as plt\n",
    "\n",
    "import tensorflow as tf\n",
    "from tensorflow import keras\n",
    "from tensorflow.keras import layers"
   ]
  },
  {
   "cell_type": "code",
   "execution_count": 2,
   "id": "e23a3341",
   "metadata": {
    "execution": {
     "iopub.execute_input": "2022-08-03T04:13:32.284531Z",
     "iopub.status.busy": "2022-08-03T04:13:32.284012Z",
     "iopub.status.idle": "2022-08-03T04:13:36.425973Z",
     "shell.execute_reply": "2022-08-03T04:13:36.422877Z"
    },
    "papermill": {
     "duration": 4.153723,
     "end_time": "2022-08-03T04:13:36.430653",
     "exception": false,
     "start_time": "2022-08-03T04:13:32.276930",
     "status": "completed"
    },
    "tags": []
   },
   "outputs": [
    {
     "name": "stderr",
     "output_type": "stream",
     "text": [
      "2022-08-03 04:13:33.408889: I tensorflow/stream_executor/cuda/cuda_gpu_executor.cc:937] successful NUMA node read from SysFS had negative value (-1), but there must be at least one NUMA node, so returning NUMA node zero\n",
      "2022-08-03 04:13:33.546043: I tensorflow/stream_executor/cuda/cuda_gpu_executor.cc:937] successful NUMA node read from SysFS had negative value (-1), but there must be at least one NUMA node, so returning NUMA node zero\n",
      "2022-08-03 04:13:33.546860: I tensorflow/stream_executor/cuda/cuda_gpu_executor.cc:937] successful NUMA node read from SysFS had negative value (-1), but there must be at least one NUMA node, so returning NUMA node zero\n",
      "2022-08-03 04:13:33.556141: I tensorflow/core/platform/cpu_feature_guard.cc:142] This TensorFlow binary is optimized with oneAPI Deep Neural Network Library (oneDNN) to use the following CPU instructions in performance-critical operations:  AVX2 AVX512F FMA\n",
      "To enable them in other operations, rebuild TensorFlow with the appropriate compiler flags.\n",
      "2022-08-03 04:13:33.556488: I tensorflow/stream_executor/cuda/cuda_gpu_executor.cc:937] successful NUMA node read from SysFS had negative value (-1), but there must be at least one NUMA node, so returning NUMA node zero\n",
      "2022-08-03 04:13:33.557242: I tensorflow/stream_executor/cuda/cuda_gpu_executor.cc:937] successful NUMA node read from SysFS had negative value (-1), but there must be at least one NUMA node, so returning NUMA node zero\n",
      "2022-08-03 04:13:33.557884: I tensorflow/stream_executor/cuda/cuda_gpu_executor.cc:937] successful NUMA node read from SysFS had negative value (-1), but there must be at least one NUMA node, so returning NUMA node zero\n",
      "2022-08-03 04:13:35.798474: I tensorflow/stream_executor/cuda/cuda_gpu_executor.cc:937] successful NUMA node read from SysFS had negative value (-1), but there must be at least one NUMA node, so returning NUMA node zero\n",
      "2022-08-03 04:13:35.799360: I tensorflow/stream_executor/cuda/cuda_gpu_executor.cc:937] successful NUMA node read from SysFS had negative value (-1), but there must be at least one NUMA node, so returning NUMA node zero\n",
      "2022-08-03 04:13:35.800029: I tensorflow/stream_executor/cuda/cuda_gpu_executor.cc:937] successful NUMA node read from SysFS had negative value (-1), but there must be at least one NUMA node, so returning NUMA node zero\n",
      "2022-08-03 04:13:35.800627: I tensorflow/core/common_runtime/gpu/gpu_device.cc:1510] Created device /job:localhost/replica:0/task:0/device:GPU:0 with 15403 MB memory:  -> device: 0, name: Tesla P100-PCIE-16GB, pci bus id: 0000:00:04.0, compute capability: 6.0\n"
     ]
    },
    {
     "name": "stdout",
     "output_type": "stream",
     "text": [
      "Train Dataset: <BatchDataset shapes: ((4, None, None, 3), (4, None, None, 3)), types: (tf.float32, tf.float32)>\n",
      "Val Dataset: <BatchDataset shapes: ((4, None, None, 3), (4, None, None, 3)), types: (tf.float32, tf.float32)>\n"
     ]
    }
   ],
   "source": [
    "random.seed(10)\n",
    "\n",
    "IMAGE_SIZE = 48\n",
    "BATCH_SIZE = 4\n",
    "MAX_TRAIN_IMAGES = 300\n",
    "\n",
    "\n",
    "def read_image(image_path):\n",
    "    image = tf.io.read_file(image_path)\n",
    "    image = tf.image.decode_png(image, channels=3)\n",
    "    image.set_shape([None, None, 3])\n",
    "    image = tf.cast(image, dtype=tf.float32) / 255.0\n",
    "    return image\n",
    "\n",
    "\n",
    "def random_crop(low_image, enhanced_image):\n",
    "    low_image_shape = tf.shape(low_image)[:2]\n",
    "    low_w = tf.random.uniform(\n",
    "        shape=(), maxval=low_image_shape[1] - IMAGE_SIZE + 1, dtype=tf.int32\n",
    "    )\n",
    "    low_h = tf.random.uniform(\n",
    "        shape=(), maxval=low_image_shape[0] - IMAGE_SIZE + 1, dtype=tf.int32\n",
    "    )\n",
    "    enhanced_w = low_w\n",
    "    enhanced_h = low_h\n",
    "    low_image_cropped = low_image[\n",
    "        low_h : low_h + IMAGE_SIZE, low_w : low_w + IMAGE_SIZE\n",
    "    ]\n",
    "    enhanced_image_cropped = enhanced_image[\n",
    "        enhanced_h : enhanced_h + IMAGE_SIZE, enhanced_w : enhanced_w + IMAGE_SIZE\n",
    "    ]\n",
    "    return low_image_cropped, enhanced_image_cropped\n",
    "\n",
    "\n",
    "def load_data(low_light_image_path, enhanced_image_path):\n",
    "    low_light_image = read_image(low_light_image_path)\n",
    "    enhanced_image = read_image(enhanced_image_path)\n",
    "    low_light_image, enhanced_image = random_crop(low_light_image, enhanced_image)\n",
    "    return low_light_image, enhanced_image\n",
    "\n",
    "\n",
    "def get_dataset(low_light_images, enhanced_images):\n",
    "    dataset = tf.data.Dataset.from_tensor_slices((low_light_images, enhanced_images))\n",
    "    dataset = dataset.map(load_data, num_parallel_calls=tf.data.AUTOTUNE)\n",
    "    dataset = dataset.batch(BATCH_SIZE, drop_remainder=True)\n",
    "    return dataset\n",
    "\n",
    "\n",
    "train_low_light_images = sorted(glob(\"../input/fer-lol/low_res/our/low/*\"))[:MAX_TRAIN_IMAGES]\n",
    "train_enhanced_images = sorted(glob(\"../input/fer-lol/low_res/our/high/*\"))[:MAX_TRAIN_IMAGES]\n",
    "\n",
    "val_low_light_images = sorted(glob(\"../input/fer-lol/low_res/eval/low/*\"))[MAX_TRAIN_IMAGES:]\n",
    "val_enhanced_images = sorted(glob(\"../input/fer-lol/low_res/eval/high/*\"))[MAX_TRAIN_IMAGES:]\n",
    "\n",
    "test_low_light_images = sorted(glob(\"../input/fer-lol/low_res/eval/low/*\"))\n",
    "test_enhanced_images = sorted(glob(\"../input/fer-lol/low_res/eval/high/*\"))\n",
    "\n",
    "\n",
    "train_dataset = get_dataset(train_low_light_images, train_enhanced_images)\n",
    "val_dataset = get_dataset(val_low_light_images, val_enhanced_images)\n",
    "\n",
    "\n",
    "print(\"Train Dataset:\", train_dataset)\n",
    "print(\"Val Dataset:\", val_dataset)"
   ]
  },
  {
   "cell_type": "code",
   "execution_count": 3,
   "id": "adff2802",
   "metadata": {
    "execution": {
     "iopub.execute_input": "2022-08-03T04:13:36.445476Z",
     "iopub.status.busy": "2022-08-03T04:13:36.445175Z",
     "iopub.status.idle": "2022-08-03T04:13:36.453005Z",
     "shell.execute_reply": "2022-08-03T04:13:36.452017Z"
    },
    "papermill": {
     "duration": 0.016416,
     "end_time": "2022-08-03T04:13:36.455051",
     "exception": false,
     "start_time": "2022-08-03T04:13:36.438635",
     "status": "completed"
    },
    "tags": []
   },
   "outputs": [],
   "source": [
    "def selective_kernel_feature_fusion(\n",
    "    multi_scale_feature_1, multi_scale_feature_2, multi_scale_feature_3\n",
    "):\n",
    "    channels = list(multi_scale_feature_1.shape)[-1]\n",
    "    combined_feature = layers.Add()(\n",
    "        [multi_scale_feature_1, multi_scale_feature_2, multi_scale_feature_3]\n",
    "    )\n",
    "    gap = layers.GlobalAveragePooling2D()(combined_feature)\n",
    "    channel_wise_statistics = tf.reshape(gap, shape=(-1, 1, 1, channels))\n",
    "    compact_feature_representation = layers.Conv2D(\n",
    "        filters=channels // 8, kernel_size=(1, 1), activation=\"relu\"\n",
    "    )(channel_wise_statistics)\n",
    "    feature_descriptor_1 = layers.Conv2D(\n",
    "        channels, kernel_size=(1, 1), activation=\"softmax\"\n",
    "    )(compact_feature_representation)\n",
    "    feature_descriptor_2 = layers.Conv2D(\n",
    "        channels, kernel_size=(1, 1), activation=\"softmax\"\n",
    "    )(compact_feature_representation)\n",
    "    feature_descriptor_3 = layers.Conv2D(\n",
    "        channels, kernel_size=(1, 1), activation=\"softmax\"\n",
    "    )(compact_feature_representation)\n",
    "    feature_1 = multi_scale_feature_1 * feature_descriptor_1\n",
    "    feature_2 = multi_scale_feature_2 * feature_descriptor_2\n",
    "    feature_3 = multi_scale_feature_3 * feature_descriptor_3\n",
    "    aggregated_feature = layers.Add()([feature_1, feature_2, feature_3])\n",
    "    return aggregated_feature"
   ]
  },
  {
   "cell_type": "code",
   "execution_count": 4,
   "id": "5354c899",
   "metadata": {
    "execution": {
     "iopub.execute_input": "2022-08-03T04:13:36.467403Z",
     "iopub.status.busy": "2022-08-03T04:13:36.467128Z",
     "iopub.status.idle": "2022-08-03T04:13:36.476951Z",
     "shell.execute_reply": "2022-08-03T04:13:36.476053Z"
    },
    "papermill": {
     "duration": 0.018413,
     "end_time": "2022-08-03T04:13:36.479058",
     "exception": false,
     "start_time": "2022-08-03T04:13:36.460645",
     "status": "completed"
    },
    "tags": []
   },
   "outputs": [],
   "source": [
    "def spatial_attention_block(input_tensor):\n",
    "    average_pooling = tf.reduce_max(input_tensor, axis=-1)\n",
    "    average_pooling = tf.expand_dims(average_pooling, axis=-1)\n",
    "    max_pooling = tf.reduce_mean(input_tensor, axis=-1)\n",
    "    max_pooling = tf.expand_dims(max_pooling, axis=-1)\n",
    "    concatenated = layers.Concatenate(axis=-1)([average_pooling, max_pooling])\n",
    "    feature_map = layers.Conv2D(1, kernel_size=(1, 1))(concatenated)\n",
    "    feature_map = tf.nn.sigmoid(feature_map)\n",
    "    return input_tensor * feature_map\n",
    "\n",
    "\n",
    "def channel_attention_block(input_tensor):\n",
    "    channels = list(input_tensor.shape)[-1]\n",
    "    average_pooling = layers.GlobalAveragePooling2D()(input_tensor)\n",
    "    feature_descriptor = tf.reshape(average_pooling, shape=(-1, 1, 1, channels))\n",
    "    feature_activations = layers.Conv2D(\n",
    "        filters=channels // 8, kernel_size=(1, 1), activation=\"relu\"\n",
    "    )(feature_descriptor)\n",
    "    feature_activations = layers.Conv2D(\n",
    "        filters=channels, kernel_size=(1, 1), activation=\"sigmoid\"\n",
    "    )(feature_activations)\n",
    "    return input_tensor * feature_activations\n",
    "\n",
    "\n",
    "def dual_attention_unit_block(input_tensor):\n",
    "    channels = list(input_tensor.shape)[-1]\n",
    "    feature_map = layers.Conv2D(\n",
    "        channels, kernel_size=(3, 3), padding=\"same\", activation=\"relu\"\n",
    "    )(input_tensor)\n",
    "    feature_map = layers.Conv2D(channels, kernel_size=(3, 3), padding=\"same\")(\n",
    "        feature_map\n",
    "    )\n",
    "    channel_attention = channel_attention_block(feature_map)\n",
    "    spatial_attention = spatial_attention_block(feature_map)\n",
    "    concatenation = layers.Concatenate(axis=-1)([channel_attention, spatial_attention])\n",
    "    concatenation = layers.Conv2D(channels, kernel_size=(1, 1))(concatenation)\n",
    "    return layers.Add()([input_tensor, concatenation])"
   ]
  },
  {
   "cell_type": "code",
   "execution_count": 5,
   "id": "b9b63bc0",
   "metadata": {
    "execution": {
     "iopub.execute_input": "2022-08-03T04:13:36.491493Z",
     "iopub.status.busy": "2022-08-03T04:13:36.491232Z",
     "iopub.status.idle": "2022-08-03T04:13:36.504197Z",
     "shell.execute_reply": "2022-08-03T04:13:36.503414Z"
    },
    "papermill": {
     "duration": 0.021641,
     "end_time": "2022-08-03T04:13:36.506275",
     "exception": false,
     "start_time": "2022-08-03T04:13:36.484634",
     "status": "completed"
    },
    "tags": []
   },
   "outputs": [],
   "source": [
    "# Recursive Residual Modules\n",
    "\n",
    "\n",
    "def down_sampling_module(input_tensor):\n",
    "    channels = list(input_tensor.shape)[-1]\n",
    "    main_branch = layers.Conv2D(channels, kernel_size=(1, 1), activation=\"relu\")(\n",
    "        input_tensor\n",
    "    )\n",
    "    main_branch = layers.Conv2D(\n",
    "        channels, kernel_size=(3, 3), padding=\"same\", activation=\"relu\"\n",
    "    )(main_branch)\n",
    "    main_branch = layers.MaxPooling2D()(main_branch)\n",
    "    main_branch = layers.Conv2D(channels * 2, kernel_size=(1, 1))(main_branch)\n",
    "    skip_branch = layers.MaxPooling2D()(input_tensor)\n",
    "    skip_branch = layers.Conv2D(channels * 2, kernel_size=(1, 1))(skip_branch)\n",
    "    return layers.Add()([skip_branch, main_branch])\n",
    "\n",
    "\n",
    "def up_sampling_module(input_tensor):\n",
    "    channels = list(input_tensor.shape)[-1]\n",
    "    main_branch = layers.Conv2D(channels, kernel_size=(1, 1), activation=\"relu\")(\n",
    "        input_tensor\n",
    "    )\n",
    "    main_branch = layers.Conv2D(\n",
    "        channels, kernel_size=(3, 3), padding=\"same\", activation=\"relu\"\n",
    "    )(main_branch)\n",
    "    main_branch = layers.UpSampling2D()(main_branch)\n",
    "    main_branch = layers.Conv2D(channels // 2, kernel_size=(1, 1))(main_branch)\n",
    "    skip_branch = layers.UpSampling2D()(input_tensor)\n",
    "    skip_branch = layers.Conv2D(channels // 2, kernel_size=(1, 1))(skip_branch)\n",
    "    return layers.Add()([skip_branch, main_branch])\n",
    "\n",
    "\n",
    "# MRB Block\n",
    "def multi_scale_residual_block(input_tensor, channels):\n",
    "    # features\n",
    "    level1 = input_tensor\n",
    "    level2 = down_sampling_module(input_tensor)\n",
    "    level3 = down_sampling_module(level2)\n",
    "    # DAU\n",
    "    level1_dau = dual_attention_unit_block(level1)\n",
    "    level2_dau = dual_attention_unit_block(level2)\n",
    "    level3_dau = dual_attention_unit_block(level3)\n",
    "    # SKFF\n",
    "    level1_skff = selective_kernel_feature_fusion(\n",
    "        level1_dau,\n",
    "        up_sampling_module(level2_dau),\n",
    "        up_sampling_module(up_sampling_module(level3_dau)),\n",
    "    )\n",
    "    level2_skff = selective_kernel_feature_fusion(\n",
    "        down_sampling_module(level1_dau), level2_dau, up_sampling_module(level3_dau)\n",
    "    )\n",
    "    level3_skff = selective_kernel_feature_fusion(\n",
    "        down_sampling_module(down_sampling_module(level1_dau)),\n",
    "        down_sampling_module(level2_dau),\n",
    "        level3_dau,\n",
    "    )\n",
    "    # DAU 2\n",
    "    level1_dau_2 = dual_attention_unit_block(level1_skff)\n",
    "    level2_dau_2 = up_sampling_module((dual_attention_unit_block(level2_skff)))\n",
    "    level3_dau_2 = up_sampling_module(\n",
    "        up_sampling_module(dual_attention_unit_block(level3_skff))\n",
    "    )\n",
    "    # SKFF 2\n",
    "    skff_ = selective_kernel_feature_fusion(level1_dau_2, level3_dau_2, level3_dau_2)\n",
    "    conv = layers.Conv2D(channels, kernel_size=(3, 3), padding=\"same\")(skff_)\n",
    "    return layers.Add()([input_tensor, conv])"
   ]
  },
  {
   "cell_type": "code",
   "execution_count": 6,
   "id": "f4260e82",
   "metadata": {
    "execution": {
     "iopub.execute_input": "2022-08-03T04:13:36.518553Z",
     "iopub.status.busy": "2022-08-03T04:13:36.518300Z",
     "iopub.status.idle": "2022-08-03T04:13:43.474788Z",
     "shell.execute_reply": "2022-08-03T04:13:43.473841Z"
    },
    "papermill": {
     "duration": 6.965339,
     "end_time": "2022-08-03T04:13:43.477447",
     "exception": false,
     "start_time": "2022-08-03T04:13:36.512108",
     "status": "completed"
    },
    "tags": []
   },
   "outputs": [],
   "source": [
    "def recursive_residual_group(input_tensor, num_mrb, channels):\n",
    "    conv1 = layers.Conv2D(channels, kernel_size=(3, 3), padding=\"same\")(input_tensor)\n",
    "    for _ in range(num_mrb):\n",
    "        conv1 = multi_scale_residual_block(conv1, channels)\n",
    "    conv2 = layers.Conv2D(channels, kernel_size=(3, 3), padding=\"same\")(conv1)\n",
    "    return layers.Add()([conv2, input_tensor])\n",
    "\n",
    "\n",
    "def mirnet_model(num_rrg, num_mrb, channels):\n",
    "    input_tensor = keras.Input(shape=[None, None, 3])\n",
    "    x1 = layers.Conv2D(channels, kernel_size=(3, 3), padding=\"same\")(input_tensor)\n",
    "    for _ in range(num_rrg):\n",
    "        x1 = recursive_residual_group(x1, num_mrb, channels)\n",
    "    conv = layers.Conv2D(3, kernel_size=(3, 3), padding=\"same\")(x1)\n",
    "    output_tensor = layers.Add()([input_tensor, conv])\n",
    "    return keras.Model(input_tensor, output_tensor)\n",
    "\n",
    "\n",
    "model = mirnet_model(num_rrg=3, num_mrb=2, channels=64)"
   ]
  },
  {
   "cell_type": "markdown",
   "id": "91082c03",
   "metadata": {
    "papermill": {
     "duration": 0.005271,
     "end_time": "2022-08-03T04:13:43.488576",
     "exception": false,
     "start_time": "2022-08-03T04:13:43.483305",
     "status": "completed"
    },
    "tags": []
   },
   "source": [
    "# Training"
   ]
  },
  {
   "cell_type": "code",
   "execution_count": 7,
   "id": "17c0ca19",
   "metadata": {
    "execution": {
     "iopub.execute_input": "2022-08-03T04:13:43.501110Z",
     "iopub.status.busy": "2022-08-03T04:13:43.500376Z",
     "iopub.status.idle": "2022-08-03T04:42:14.901986Z",
     "shell.execute_reply": "2022-08-03T04:42:14.901038Z"
    },
    "papermill": {
     "duration": 1711.410124,
     "end_time": "2022-08-03T04:42:14.904088",
     "exception": false,
     "start_time": "2022-08-03T04:13:43.493964",
     "status": "completed"
    },
    "tags": []
   },
   "outputs": [
    {
     "name": "stderr",
     "output_type": "stream",
     "text": [
      "2022-08-03 04:13:43.573999: I tensorflow/compiler/mlir/mlir_graph_optimization_pass.cc:185] None of the MLIR Optimization Passes are enabled (registered 2)\n"
     ]
    },
    {
     "name": "stdout",
     "output_type": "stream",
     "text": [
      "Epoch 1/50\n"
     ]
    },
    {
     "name": "stderr",
     "output_type": "stream",
     "text": [
      "2022-08-03 04:14:21.816805: I tensorflow/stream_executor/cuda/cuda_dnn.cc:369] Loaded cuDNN version 8005\n"
     ]
    },
    {
     "name": "stdout",
     "output_type": "stream",
     "text": [
      "75/75 [==============================] - 71s 361ms/step - loss: 0.1024 - peak_signal_noise_ratio: 66.1893 - val_loss: 0.0515 - val_peak_signal_noise_ratio: 69.2920\n",
      "Epoch 2/50\n",
      "75/75 [==============================] - 24s 315ms/step - loss: 0.0417 - peak_signal_noise_ratio: 70.7510 - val_loss: 0.0332 - val_peak_signal_noise_ratio: 72.7212\n",
      "Epoch 3/50\n",
      "75/75 [==============================] - 21s 282ms/step - loss: 0.0302 - peak_signal_noise_ratio: 74.4333 - val_loss: 0.0269 - val_peak_signal_noise_ratio: 76.0987\n",
      "Epoch 4/50\n",
      "75/75 [==============================] - 20s 270ms/step - loss: 0.0241 - peak_signal_noise_ratio: 77.1434 - val_loss: 0.0214 - val_peak_signal_noise_ratio: 78.1673\n",
      "Epoch 5/50\n",
      "75/75 [==============================] - 21s 275ms/step - loss: 0.0205 - peak_signal_noise_ratio: 78.6857 - val_loss: 0.0196 - val_peak_signal_noise_ratio: 79.1159\n",
      "Epoch 6/50\n",
      "75/75 [==============================] - 23s 313ms/step - loss: 0.0191 - peak_signal_noise_ratio: 79.4286 - val_loss: 0.0187 - val_peak_signal_noise_ratio: 79.6042\n",
      "Epoch 7/50\n",
      "75/75 [==============================] - 21s 276ms/step - loss: 0.0186 - peak_signal_noise_ratio: 79.7533 - val_loss: 0.0183 - val_peak_signal_noise_ratio: 79.8791\n",
      "Epoch 8/50\n",
      "75/75 [==============================] - 20s 272ms/step - loss: 0.0184 - peak_signal_noise_ratio: 79.9075 - val_loss: 0.0182 - val_peak_signal_noise_ratio: 79.9453\n",
      "Epoch 9/50\n",
      "75/75 [==============================] - 21s 277ms/step - loss: 0.0181 - peak_signal_noise_ratio: 80.1276 - val_loss: 0.0179 - val_peak_signal_noise_ratio: 80.1958\n",
      "Epoch 10/50\n",
      "75/75 [==============================] - 20s 269ms/step - loss: 0.0180 - peak_signal_noise_ratio: 80.2652 - val_loss: 0.0179 - val_peak_signal_noise_ratio: 80.3279\n",
      "Epoch 11/50\n",
      "75/75 [==============================] - 21s 281ms/step - loss: 0.0175 - peak_signal_noise_ratio: 80.6315 - val_loss: 0.0174 - val_peak_signal_noise_ratio: 80.6646\n",
      "Epoch 12/50\n",
      "75/75 [==============================] - 21s 275ms/step - loss: 0.0172 - peak_signal_noise_ratio: 80.8676 - val_loss: 0.0173 - val_peak_signal_noise_ratio: 80.7556\n",
      "Epoch 13/50\n",
      "75/75 [==============================] - 21s 274ms/step - loss: 0.0172 - peak_signal_noise_ratio: 80.9670 - val_loss: 0.0170 - val_peak_signal_noise_ratio: 81.0487\n",
      "Epoch 14/50\n",
      "75/75 [==============================] - 21s 277ms/step - loss: 0.0169 - peak_signal_noise_ratio: 81.2082 - val_loss: 0.0169 - val_peak_signal_noise_ratio: 81.1720\n",
      "Epoch 15/50\n",
      "75/75 [==============================] - 20s 272ms/step - loss: 0.0168 - peak_signal_noise_ratio: 81.3133 - val_loss: 0.0167 - val_peak_signal_noise_ratio: 81.3521\n",
      "Epoch 16/50\n",
      "75/75 [==============================] - 21s 285ms/step - loss: 0.0166 - peak_signal_noise_ratio: 81.4800 - val_loss: 0.0166 - val_peak_signal_noise_ratio: 81.4746\n",
      "Epoch 17/50\n",
      "75/75 [==============================] - 21s 277ms/step - loss: 0.0166 - peak_signal_noise_ratio: 81.5641 - val_loss: 0.0166 - val_peak_signal_noise_ratio: 81.5860\n",
      "Epoch 18/50\n",
      "75/75 [==============================] - 21s 279ms/step - loss: 0.0165 - peak_signal_noise_ratio: 81.6724 - val_loss: 0.0165 - val_peak_signal_noise_ratio: 81.6784\n",
      "Epoch 19/50\n",
      "75/75 [==============================] - 20s 265ms/step - loss: 0.0164 - peak_signal_noise_ratio: 81.7535 - val_loss: 0.0164 - val_peak_signal_noise_ratio: 81.7514\n",
      "Epoch 20/50\n",
      "75/75 [==============================] - 21s 275ms/step - loss: 0.0164 - peak_signal_noise_ratio: 81.8207 - val_loss: 0.0163 - val_peak_signal_noise_ratio: 81.7984\n",
      "Epoch 21/50\n",
      "75/75 [==============================] - 20s 268ms/step - loss: 0.0163 - peak_signal_noise_ratio: 81.8912 - val_loss: 0.0163 - val_peak_signal_noise_ratio: 81.8211\n",
      "Epoch 22/50\n",
      "75/75 [==============================] - 21s 275ms/step - loss: 0.0163 - peak_signal_noise_ratio: 81.8914 - val_loss: 0.0163 - val_peak_signal_noise_ratio: 81.8518\n",
      "Epoch 23/50\n",
      "75/75 [==============================] - 20s 268ms/step - loss: 0.0163 - peak_signal_noise_ratio: 81.9548 - val_loss: 0.0162 - val_peak_signal_noise_ratio: 81.9727\n",
      "Epoch 24/50\n",
      "75/75 [==============================] - 21s 275ms/step - loss: 0.0160 - peak_signal_noise_ratio: 82.1334 - val_loss: 0.0161 - val_peak_signal_noise_ratio: 82.0729\n",
      "Epoch 25/50\n",
      "75/75 [==============================] - 21s 271ms/step - loss: 0.0160 - peak_signal_noise_ratio: 82.1712 - val_loss: 0.0161 - val_peak_signal_noise_ratio: 82.0198\n",
      "Epoch 26/50\n",
      "75/75 [==============================] - 20s 270ms/step - loss: 0.0161 - peak_signal_noise_ratio: 82.1132 - val_loss: 0.0160 - val_peak_signal_noise_ratio: 82.1493\n",
      "Epoch 27/50\n",
      "75/75 [==============================] - 20s 273ms/step - loss: 0.0159 - peak_signal_noise_ratio: 82.2555 - val_loss: 0.0160 - val_peak_signal_noise_ratio: 82.1742\n",
      "Epoch 28/50\n",
      "75/75 [==============================] - 21s 276ms/step - loss: 0.0161 - peak_signal_noise_ratio: 82.1994 - val_loss: 0.0161 - val_peak_signal_noise_ratio: 82.1272\n",
      "Epoch 29/50\n",
      "75/75 [==============================] - 21s 277ms/step - loss: 0.0160 - peak_signal_noise_ratio: 82.2601 - val_loss: 0.0159 - val_peak_signal_noise_ratio: 82.2683\n",
      "Epoch 30/50\n",
      "75/75 [==============================] - 21s 278ms/step - loss: 0.0158 - peak_signal_noise_ratio: 82.3539 - val_loss: 0.0159 - val_peak_signal_noise_ratio: 82.3049\n",
      "Epoch 31/50\n",
      "75/75 [==============================] - 20s 271ms/step - loss: 0.0158 - peak_signal_noise_ratio: 82.3887 - val_loss: 0.0159 - val_peak_signal_noise_ratio: 82.3430\n",
      "Epoch 32/50\n",
      "75/75 [==============================] - 21s 279ms/step - loss: 0.0157 - peak_signal_noise_ratio: 82.4423 - val_loss: 0.0158 - val_peak_signal_noise_ratio: 82.3587\n",
      "Epoch 33/50\n",
      "75/75 [==============================] - 21s 274ms/step - loss: 0.0158 - peak_signal_noise_ratio: 82.4001 - val_loss: 0.0158 - val_peak_signal_noise_ratio: 82.4056\n",
      "Epoch 34/50\n",
      "75/75 [==============================] - 21s 281ms/step - loss: 0.0157 - peak_signal_noise_ratio: 82.4607 - val_loss: 0.0160 - val_peak_signal_noise_ratio: 82.2146\n",
      "Epoch 35/50\n",
      "75/75 [==============================] - 21s 277ms/step - loss: 0.0158 - peak_signal_noise_ratio: 82.4149 - val_loss: 0.0158 - val_peak_signal_noise_ratio: 82.4330\n",
      "Epoch 36/50\n",
      "75/75 [==============================] - 20s 270ms/step - loss: 0.0156 - peak_signal_noise_ratio: 82.5134 - val_loss: 0.0159 - val_peak_signal_noise_ratio: 82.2981\n",
      "Epoch 37/50\n",
      "75/75 [==============================] - 21s 279ms/step - loss: 0.0159 - peak_signal_noise_ratio: 82.3830 - val_loss: 0.0157 - val_peak_signal_noise_ratio: 82.4650\n",
      "Epoch 38/50\n",
      "75/75 [==============================] - 21s 277ms/step - loss: 0.0157 - peak_signal_noise_ratio: 82.5077 - val_loss: 0.0157 - val_peak_signal_noise_ratio: 82.4762\n",
      "Epoch 39/50\n",
      "75/75 [==============================] - 20s 273ms/step - loss: 0.0157 - peak_signal_noise_ratio: 82.4618 - val_loss: 0.0157 - val_peak_signal_noise_ratio: 82.5093\n",
      "Epoch 40/50\n",
      "75/75 [==============================] - 21s 277ms/step - loss: 0.0158 - peak_signal_noise_ratio: 82.4343 - val_loss: 0.0157 - val_peak_signal_noise_ratio: 82.4884\n",
      "Epoch 41/50\n",
      "75/75 [==============================] - 20s 267ms/step - loss: 0.0156 - peak_signal_noise_ratio: 82.5334 - val_loss: 0.0157 - val_peak_signal_noise_ratio: 82.5031\n",
      "Epoch 42/50\n",
      "75/75 [==============================] - 21s 276ms/step - loss: 0.0160 - peak_signal_noise_ratio: 82.3036 - val_loss: 0.0157 - val_peak_signal_noise_ratio: 82.5023\n",
      "Epoch 43/50\n",
      "75/75 [==============================] - 21s 276ms/step - loss: 0.0158 - peak_signal_noise_ratio: 82.4328 - val_loss: 0.0157 - val_peak_signal_noise_ratio: 82.5112\n",
      "Epoch 44/50\n",
      "75/75 [==============================] - 21s 280ms/step - loss: 0.0154 - peak_signal_noise_ratio: 82.6686 - val_loss: 0.0156 - val_peak_signal_noise_ratio: 82.5424\n",
      "Epoch 45/50\n",
      "75/75 [==============================] - 21s 278ms/step - loss: 0.0154 - peak_signal_noise_ratio: 82.6587 - val_loss: 0.0156 - val_peak_signal_noise_ratio: 82.5127\n",
      "Epoch 46/50\n",
      "75/75 [==============================] - 21s 278ms/step - loss: 0.0156 - peak_signal_noise_ratio: 82.5492 - val_loss: 0.0160 - val_peak_signal_noise_ratio: 82.3559\n",
      "Epoch 47/50\n",
      "75/75 [==============================] - 20s 271ms/step - loss: 0.0156 - peak_signal_noise_ratio: 82.5448 - val_loss: 0.0157 - val_peak_signal_noise_ratio: 82.5311\n",
      "Epoch 48/50\n",
      "75/75 [==============================] - 21s 275ms/step - loss: 0.0153 - peak_signal_noise_ratio: 82.7083 - val_loss: 0.0156 - val_peak_signal_noise_ratio: 82.5440\n",
      "Epoch 49/50\n",
      "75/75 [==============================] - 20s 269ms/step - loss: 0.0152 - peak_signal_noise_ratio: 82.7456 - val_loss: 0.0156 - val_peak_signal_noise_ratio: 82.5500\n",
      "Epoch 50/50\n",
      "75/75 [==============================] - 20s 272ms/step - loss: 0.0152 - peak_signal_noise_ratio: 82.7614 - val_loss: 0.0156 - val_peak_signal_noise_ratio: 82.5120\n"
     ]
    },
    {
     "data": {
      "image/png": "[encoded data removed]",
      "text/plain": [
       "<Figure size 432x288 with 1 Axes>"
      ]
     },
     "metadata": {
      "needs_background": "light"
     },
     "output_type": "display_data"
    },
    {
     "data": {
      "image/png": "[encoded data removed]",
      "text/plain": [
       "<Figure size 432x288 with 1 Axes>"
      ]
     },
     "metadata": {
      "needs_background": "light"
     },
     "output_type": "display_data"
    }
   ],
   "source": [
    "def charbonnier_loss(y_true, y_pred):\n",
    "    return tf.reduce_mean(tf.sqrt(tf.square(y_true - y_pred) + tf.square(1e-3)))\n",
    "\n",
    "\n",
    "def peak_signal_noise_ratio(y_true, y_pred):\n",
    "    return tf.image.psnr(y_pred, y_true, max_val=255.0)\n",
    "\n",
    "\n",
    "optimizer = keras.optimizers.Adam(learning_rate=1e-4)\n",
    "model.compile(\n",
    "    optimizer=optimizer, loss=charbonnier_loss, metrics=[peak_signal_noise_ratio]\n",
    ")\n",
    "\n",
    "history = model.fit(\n",
    "    train_dataset,\n",
    "    validation_data=val_dataset,\n",
    "    epochs=50,\n",
    "    callbacks=[\n",
    "        keras.callbacks.ReduceLROnPlateau(\n",
    "            monitor=\"val_peak_signal_noise_ratio\",\n",
    "            factor=0.5,\n",
    "            patience=5,\n",
    "            verbose=1,\n",
    "            min_delta=1e-7,\n",
    "            mode=\"max\",\n",
    "        )\n",
    "    ],\n",
    ")\n",
    "\n",
    "plt.plot(history.history[\"loss\"], label=\"train_loss\")\n",
    "plt.plot(history.history[\"val_loss\"], label=\"val_loss\")\n",
    "plt.xlabel(\"Epochs\")\n",
    "plt.ylabel(\"Loss\")\n",
    "plt.title(\"Train and Validation Losses Over Epochs\", fontsize=14)\n",
    "plt.legend()\n",
    "plt.grid()\n",
    "plt.show()\n",
    "\n",
    "\n",
    "plt.plot(history.history[\"peak_signal_noise_ratio\"], label=\"train_psnr\")\n",
    "plt.plot(history.history[\"val_peak_signal_noise_ratio\"], label=\"val_psnr\")\n",
    "plt.xlabel(\"Epochs\")\n",
    "plt.ylabel(\"PSNR\")\n",
    "plt.title(\"Train and Validation PSNR Over Epochs\", fontsize=14)\n",
    "plt.legend()\n",
    "plt.grid()\n",
    "plt.show()"
   ]
  },
  {
   "cell_type": "code",
   "execution_count": 8,
   "id": "24bc3b20",
   "metadata": {
    "execution": {
     "iopub.execute_input": "2022-08-03T04:42:15.554374Z",
     "iopub.status.busy": "2022-08-03T04:42:15.554003Z",
     "iopub.status.idle": "2022-08-03T04:42:18.795152Z",
     "shell.execute_reply": "2022-08-03T04:42:18.794192Z"
    },
    "papermill": {
     "duration": 3.563251,
     "end_time": "2022-08-03T04:42:18.797983",
     "exception": false,
     "start_time": "2022-08-03T04:42:15.234732",
     "status": "completed"
    },
    "tags": []
   },
   "outputs": [
    {
     "name": "stderr",
     "output_type": "stream",
     "text": [
      "/opt/conda/lib/python3.7/site-packages/keras/utils/generic_utils.py:497: CustomMaskWarning: Custom mask layers require a config and must override get_config. When loading, the custom mask layer must be passed to the custom_objects argument.\n",
      "  category=CustomMaskWarning)\n"
     ]
    }
   ],
   "source": [
    "from tensorflow.keras import models, layers, regularizers\n",
    "\n",
    "models.save_model(model,'./MIRNet.h5') "
   ]
  },
  {
   "cell_type": "code",
   "execution_count": 9,
   "id": "511c3243",
   "metadata": {
    "execution": {
     "iopub.execute_input": "2022-08-03T04:42:19.207059Z",
     "iopub.status.busy": "2022-08-03T04:42:19.206187Z",
     "iopub.status.idle": "2022-08-03T04:42:19.214728Z",
     "shell.execute_reply": "2022-08-03T04:42:19.213677Z"
    },
    "papermill": {
     "duration": 0.216839,
     "end_time": "2022-08-03T04:42:19.216878",
     "exception": false,
     "start_time": "2022-08-03T04:42:19.000039",
     "status": "completed"
    },
    "tags": []
   },
   "outputs": [],
   "source": [
    "def plot_results(images, titles, figure_size=(12, 12)):\n",
    "    fig = plt.figure(figsize=figure_size)\n",
    "    for i in range(len(images)):\n",
    "        fig.add_subplot(1, len(images), i + 1).set_title(titles[i])\n",
    "        _ = plt.imshow(images[i])\n",
    "        plt.axis(\"off\")\n",
    "    plt.show()\n",
    "\n",
    "\n",
    "def infer(original_image):\n",
    "    image = keras.preprocessing.image.img_to_array(original_image)\n",
    "    image = image.astype(\"float32\") / 255.0\n",
    "    image = np.expand_dims(image, axis=0)\n",
    "    output = model.predict(image)\n",
    "    output_image = output[0] * 255.0\n",
    "    output_image = output_image.clip(0, 255)\n",
    "    output_image = output_image.reshape(\n",
    "        (np.shape(output_image)[0], np.shape(output_image)[1], 3)\n",
    "    )\n",
    "    output_image = Image.fromarray(np.uint8(output_image))\n",
    "    original_image = Image.fromarray(np.uint8(original_image))\n",
    "    return output_image"
   ]
  },
  {
   "cell_type": "code",
   "execution_count": 10,
   "id": "8468f1c4",
   "metadata": {
    "execution": {
     "iopub.execute_input": "2022-08-03T04:42:19.625455Z",
     "iopub.status.busy": "2022-08-03T04:42:19.625084Z",
     "iopub.status.idle": "2022-08-03T04:42:24.696291Z",
     "shell.execute_reply": "2022-08-03T04:42:24.695368Z"
    },
    "papermill": {
     "duration": 5.279131,
     "end_time": "2022-08-03T04:42:24.698798",
     "exception": false,
     "start_time": "2022-08-03T04:42:19.419667",
     "status": "completed"
    },
    "tags": []
   },
   "outputs": [
    {
     "data": {
      "image/png": "[encoded data removed]",
      "text/plain": [
       "<Figure size 360x576 with 3 Axes>"
      ]
     },
     "metadata": {
      "needs_background": "light"
     },
     "output_type": "display_data"
    }
   ],
   "source": [
    "for low_light_image in random.sample(test_low_light_images, 1):\n",
    "    original_image = Image.open(low_light_image)\n",
    "    enhanced_image = infer(original_image)\n",
    "    plot_results(\n",
    "        [original_image, ImageOps.autocontrast(original_image), enhanced_image],\n",
    "        [\"Original\", \"PIL Autocontrast\", \"MIRNet Enhanced\"],\n",
    "        (5, 8),\n",
    "    )"
   ]
  },
  {
   "cell_type": "markdown",
   "id": "223b76dd",
   "metadata": {
    "papermill": {
     "duration": 0.252434,
     "end_time": "2022-08-03T04:42:25.155544",
     "exception": false,
     "start_time": "2022-08-03T04:42:24.903110",
     "status": "completed"
    },
    "tags": []
   },
   "source": [
    "# Hyperparameter\n",
    "\n",
    "### learning rate 0.001, Adam Optimizer & patience = 10"
   ]
  },
  {
   "cell_type": "code",
   "execution_count": 11,
   "id": "37ac00c0",
   "metadata": {
    "execution": {
     "iopub.execute_input": "2022-08-03T04:42:25.560792Z",
     "iopub.status.busy": "2022-08-03T04:42:25.560430Z",
     "iopub.status.idle": "2022-08-03T04:42:36.171540Z",
     "shell.execute_reply": "2022-08-03T04:42:36.170506Z"
    },
    "papermill": {
     "duration": 10.817596,
     "end_time": "2022-08-03T04:42:36.174421",
     "exception": false,
     "start_time": "2022-08-03T04:42:25.356825",
     "status": "completed"
    },
    "tags": []
   },
   "outputs": [],
   "source": [
    "from tensorflow.keras import models, layers, regularizers\n",
    "\n",
    "model = models.load_model('../input/pretrained/MIRNet.h5', compile=False) "
   ]
  },
  {
   "cell_type": "code",
   "execution_count": 12,
   "id": "312d6da1",
   "metadata": {
    "execution": {
     "iopub.execute_input": "2022-08-03T04:42:36.583999Z",
     "iopub.status.busy": "2022-08-03T04:42:36.583618Z",
     "iopub.status.idle": "2022-08-03T04:42:36.795847Z",
     "shell.execute_reply": "2022-08-03T04:42:36.794773Z"
    },
    "papermill": {
     "duration": 0.421163,
     "end_time": "2022-08-03T04:42:36.798475",
     "exception": false,
     "start_time": "2022-08-03T04:42:36.377312",
     "status": "completed"
    },
    "tags": []
   },
   "outputs": [
    {
     "name": "stdout",
     "output_type": "stream",
     "text": [
      "Train Dataset: <BatchDataset shapes: ((4, None, None, 3), (4, None, None, 3)), types: (tf.float32, tf.float32)>\n",
      "Val Dataset: <BatchDataset shapes: ((4, None, None, 3), (4, None, None, 3)), types: (tf.float32, tf.float32)>\n"
     ]
    }
   ],
   "source": [
    "random.seed(10)\n",
    "\n",
    "IMAGE_SIZE = 48\n",
    "BATCH_SIZE = 4\n",
    "MAX_TRAIN_IMAGES = 300\n",
    "\n",
    "\n",
    "def read_image(image_path):\n",
    "    image = tf.io.read_file(image_path)\n",
    "    image = tf.image.decode_png(image, channels=3)\n",
    "    image.set_shape([None, None, 3])\n",
    "    image = tf.cast(image, dtype=tf.float32) / 255.0\n",
    "    return image\n",
    "\n",
    "\n",
    "def random_crop(low_image, enhanced_image):\n",
    "    low_image_shape = tf.shape(low_image)[:2]\n",
    "    low_w = tf.random.uniform(\n",
    "        shape=(), maxval=low_image_shape[1] - IMAGE_SIZE + 1, dtype=tf.int32\n",
    "    )\n",
    "    low_h = tf.random.uniform(\n",
    "        shape=(), maxval=low_image_shape[0] - IMAGE_SIZE + 1, dtype=tf.int32\n",
    "    )\n",
    "    enhanced_w = low_w\n",
    "    enhanced_h = low_h\n",
    "    low_image_cropped = low_image[\n",
    "        low_h : low_h + IMAGE_SIZE, low_w : low_w + IMAGE_SIZE\n",
    "    ]\n",
    "    enhanced_image_cropped = enhanced_image[\n",
    "        enhanced_h : enhanced_h + IMAGE_SIZE, enhanced_w : enhanced_w + IMAGE_SIZE\n",
    "    ]\n",
    "    return low_image_cropped, enhanced_image_cropped\n",
    "\n",
    "\n",
    "def load_data(low_light_image_path, enhanced_image_path):\n",
    "    low_light_image = read_image(low_light_image_path)\n",
    "    enhanced_image = read_image(enhanced_image_path)\n",
    "    low_light_image, enhanced_image = random_crop(low_light_image, enhanced_image)\n",
    "    return low_light_image, enhanced_image\n",
    "\n",
    "\n",
    "def get_dataset(low_light_images, enhanced_images):\n",
    "    dataset = tf.data.Dataset.from_tensor_slices((low_light_images, enhanced_images))\n",
    "    dataset = dataset.map(load_data, num_parallel_calls=tf.data.AUTOTUNE)\n",
    "    dataset = dataset.batch(BATCH_SIZE, drop_remainder=True)\n",
    "    return dataset\n",
    "\n",
    "\n",
    "train_low_light_images = sorted(glob(\"../input/fer-lol/low_res/our/low/*\"))[:MAX_TRAIN_IMAGES]\n",
    "train_enhanced_images = sorted(glob(\"../input/fer-lol/low_res/our/high/*\"))[:MAX_TRAIN_IMAGES]\n",
    "\n",
    "val_low_light_images = sorted(glob(\"../input/fer-lol/low_res/eval/low/*\"))[MAX_TRAIN_IMAGES:]\n",
    "val_enhanced_images = sorted(glob(\"../input/fer-lol/low_res/eval/high/*\"))[MAX_TRAIN_IMAGES:]\n",
    "\n",
    "test_low_light_images = sorted(glob(\"../input/fer-lol/low_res/eval/low/*\"))\n",
    "test_enhanced_images = sorted(glob(\"../input/fer-lol/low_res/eval/high/*\"))\n",
    "\n",
    "\n",
    "train_dataset = get_dataset(train_low_light_images, train_enhanced_images)\n",
    "val_dataset = get_dataset(val_low_light_images, val_enhanced_images)\n",
    "\n",
    "\n",
    "print(\"Train Dataset:\", train_dataset)\n",
    "print(\"Val Dataset:\", val_dataset)"
   ]
  },
  {
   "cell_type": "code",
   "execution_count": 13,
   "id": "47d7be04",
   "metadata": {
    "execution": {
     "iopub.execute_input": "2022-08-03T04:42:37.424878Z",
     "iopub.status.busy": "2022-08-03T04:42:37.424425Z",
     "iopub.status.idle": "2022-08-03T05:12:05.114918Z",
     "shell.execute_reply": "2022-08-03T05:12:05.113871Z"
    },
    "papermill": {
     "duration": 1768.403394,
     "end_time": "2022-08-03T05:12:05.480339",
     "exception": false,
     "start_time": "2022-08-03T04:42:37.076945",
     "status": "completed"
    },
    "tags": []
   },
   "outputs": [
    {
     "name": "stdout",
     "output_type": "stream",
     "text": [
      "Epoch 1/50\n",
      "75/75 [==============================] - 65s 350ms/step - loss: 0.1583 - peak_signal_noise_ratio: 66.5728 - val_loss: 0.0374 - val_peak_signal_noise_ratio: 73.5034\n",
      "Epoch 2/50\n",
      "75/75 [==============================] - 20s 270ms/step - loss: 0.0304 - peak_signal_noise_ratio: 76.2196 - val_loss: 0.0211 - val_peak_signal_noise_ratio: 79.4866\n",
      "Epoch 3/50\n",
      "75/75 [==============================] - 21s 277ms/step - loss: 0.0219 - peak_signal_noise_ratio: 79.4752 - val_loss: 0.0168 - val_peak_signal_noise_ratio: 81.3704\n",
      "Epoch 4/50\n",
      "75/75 [==============================] - 20s 274ms/step - loss: 0.0170 - peak_signal_noise_ratio: 81.3622 - val_loss: 0.0167 - val_peak_signal_noise_ratio: 81.5219\n",
      "Epoch 5/50\n",
      "75/75 [==============================] - 23s 310ms/step - loss: 0.0180 - peak_signal_noise_ratio: 80.9378 - val_loss: 0.0166 - val_peak_signal_noise_ratio: 81.7016\n",
      "Epoch 6/50\n",
      "75/75 [==============================] - 21s 276ms/step - loss: 0.0229 - peak_signal_noise_ratio: 79.4253 - val_loss: 0.0166 - val_peak_signal_noise_ratio: 81.8119\n",
      "Epoch 7/50\n",
      "75/75 [==============================] - 21s 281ms/step - loss: 0.0181 - peak_signal_noise_ratio: 81.0595 - val_loss: 0.0166 - val_peak_signal_noise_ratio: 81.9127\n",
      "Epoch 8/50\n",
      "75/75 [==============================] - 21s 278ms/step - loss: 0.0178 - peak_signal_noise_ratio: 81.2787 - val_loss: 0.0164 - val_peak_signal_noise_ratio: 82.0589\n",
      "Epoch 9/50\n",
      "75/75 [==============================] - 21s 277ms/step - loss: 0.0222 - peak_signal_noise_ratio: 79.6145 - val_loss: 0.0198 - val_peak_signal_noise_ratio: 80.3706\n",
      "Epoch 10/50\n",
      "75/75 [==============================] - 20s 268ms/step - loss: 0.0175 - peak_signal_noise_ratio: 81.5496 - val_loss: 0.0161 - val_peak_signal_noise_ratio: 82.2616\n",
      "Epoch 11/50\n",
      "75/75 [==============================] - 21s 275ms/step - loss: 0.0165 - peak_signal_noise_ratio: 82.0775 - val_loss: 0.0164 - val_peak_signal_noise_ratio: 82.1553\n",
      "Epoch 12/50\n",
      "75/75 [==============================] - 21s 279ms/step - loss: 0.0165 - peak_signal_noise_ratio: 82.0953 - val_loss: 0.0163 - val_peak_signal_noise_ratio: 82.2294\n",
      "Epoch 13/50\n",
      "75/75 [==============================] - 20s 273ms/step - loss: 0.0210 - peak_signal_noise_ratio: 80.3101 - val_loss: 0.0161 - val_peak_signal_noise_ratio: 82.3814\n",
      "Epoch 14/50\n",
      "75/75 [==============================] - 21s 279ms/step - loss: 0.0164 - peak_signal_noise_ratio: 82.2557 - val_loss: 0.0164 - val_peak_signal_noise_ratio: 82.1880\n",
      "Epoch 15/50\n",
      "75/75 [==============================] - 21s 275ms/step - loss: 0.0190 - peak_signal_noise_ratio: 80.9659 - val_loss: 0.0160 - val_peak_signal_noise_ratio: 82.3666\n",
      "Epoch 16/50\n",
      "75/75 [==============================] - 20s 265ms/step - loss: 0.0161 - peak_signal_noise_ratio: 82.3778 - val_loss: 0.0160 - val_peak_signal_noise_ratio: 82.4579\n",
      "Epoch 17/50\n",
      "75/75 [==============================] - 21s 280ms/step - loss: 0.0164 - peak_signal_noise_ratio: 82.2212 - val_loss: 0.0164 - val_peak_signal_noise_ratio: 82.2032\n",
      "Epoch 18/50\n",
      "75/75 [==============================] - 20s 269ms/step - loss: 0.0194 - peak_signal_noise_ratio: 80.8271 - val_loss: 0.0159 - val_peak_signal_noise_ratio: 82.4562\n",
      "Epoch 19/50\n",
      "75/75 [==============================] - 21s 276ms/step - loss: 0.0159 - peak_signal_noise_ratio: 82.4959 - val_loss: 0.0159 - val_peak_signal_noise_ratio: 82.5153\n",
      "Epoch 20/50\n",
      "75/75 [==============================] - 20s 273ms/step - loss: 0.0168 - peak_signal_noise_ratio: 82.0086 - val_loss: 0.0159 - val_peak_signal_noise_ratio: 82.5383\n",
      "Epoch 21/50\n",
      "75/75 [==============================] - 21s 279ms/step - loss: 0.0169 - peak_signal_noise_ratio: 81.9699 - val_loss: 0.0162 - val_peak_signal_noise_ratio: 82.2797\n",
      "Epoch 22/50\n",
      "75/75 [==============================] - 21s 279ms/step - loss: 0.0172 - peak_signal_noise_ratio: 81.7759 - val_loss: 0.0161 - val_peak_signal_noise_ratio: 82.3614\n",
      "Epoch 23/50\n",
      "75/75 [==============================] - 21s 284ms/step - loss: 0.0161 - peak_signal_noise_ratio: 82.3521 - val_loss: 0.0158 - val_peak_signal_noise_ratio: 82.5794\n",
      "Epoch 24/50\n",
      "75/75 [==============================] - 20s 269ms/step - loss: 0.0163 - peak_signal_noise_ratio: 82.2634 - val_loss: 0.0160 - val_peak_signal_noise_ratio: 82.4477\n",
      "Epoch 25/50\n",
      "75/75 [==============================] - 21s 280ms/step - loss: 9.6879 - peak_signal_noise_ratio: 73.3606 - val_loss: 21179046.0000 - val_peak_signal_noise_ratio: -100.4299\n",
      "Epoch 26/50\n",
      "75/75 [==============================] - 20s 270ms/step - loss: nan - peak_signal_noise_ratio: nan - val_loss: nan - val_peak_signal_noise_ratio: nan\n",
      "Epoch 27/50\n",
      "75/75 [==============================] - 22s 288ms/step - loss: nan - peak_signal_noise_ratio: nan - val_loss: nan - val_peak_signal_noise_ratio: nan\n",
      "Epoch 28/50\n",
      "75/75 [==============================] - 20s 271ms/step - loss: nan - peak_signal_noise_ratio: nan - val_loss: nan - val_peak_signal_noise_ratio: nan\n",
      "Epoch 29/50\n",
      "75/75 [==============================] - 21s 285ms/step - loss: nan - peak_signal_noise_ratio: nan - val_loss: nan - val_peak_signal_noise_ratio: nan\n",
      "Epoch 30/50\n",
      "75/75 [==============================] - 21s 277ms/step - loss: nan - peak_signal_noise_ratio: nan - val_loss: nan - val_peak_signal_noise_ratio: nan\n",
      "Epoch 31/50\n",
      "75/75 [==============================] - 21s 282ms/step - loss: nan - peak_signal_noise_ratio: nan - val_loss: nan - val_peak_signal_noise_ratio: nan\n",
      "Epoch 32/50\n",
      "75/75 [==============================] - 21s 277ms/step - loss: nan - peak_signal_noise_ratio: nan - val_loss: nan - val_peak_signal_noise_ratio: nan\n",
      "Epoch 33/50\n",
      "75/75 [==============================] - 21s 274ms/step - loss: nan - peak_signal_noise_ratio: nan - val_loss: nan - val_peak_signal_noise_ratio: nan\n",
      "\n",
      "Epoch 00033: ReduceLROnPlateau reducing learning rate to 0.0005000000237487257.\n",
      "Epoch 34/50\n",
      "75/75 [==============================] - 21s 283ms/step - loss: nan - peak_signal_noise_ratio: nan - val_loss: nan - val_peak_signal_noise_ratio: nan\n",
      "Epoch 35/50\n",
      "75/75 [==============================] - 21s 276ms/step - loss: nan - peak_signal_noise_ratio: nan - val_loss: nan - val_peak_signal_noise_ratio: nan\n",
      "Epoch 36/50\n",
      "75/75 [==============================] - 21s 279ms/step - loss: nan - peak_signal_noise_ratio: nan - val_loss: nan - val_peak_signal_noise_ratio: nan\n",
      "Epoch 37/50\n",
      "75/75 [==============================] - 21s 278ms/step - loss: nan - peak_signal_noise_ratio: nan - val_loss: nan - val_peak_signal_noise_ratio: nan\n",
      "Epoch 38/50\n",
      "75/75 [==============================] - 22s 285ms/step - loss: nan - peak_signal_noise_ratio: nan - val_loss: nan - val_peak_signal_noise_ratio: nan\n",
      "Epoch 39/50\n",
      "75/75 [==============================] - 20s 273ms/step - loss: nan - peak_signal_noise_ratio: nan - val_loss: nan - val_peak_signal_noise_ratio: nan\n",
      "Epoch 40/50\n",
      "75/75 [==============================] - 21s 280ms/step - loss: nan - peak_signal_noise_ratio: nan - val_loss: nan - val_peak_signal_noise_ratio: nan\n",
      "Epoch 41/50\n",
      "75/75 [==============================] - 21s 277ms/step - loss: nan - peak_signal_noise_ratio: nan - val_loss: nan - val_peak_signal_noise_ratio: nan\n",
      "Epoch 42/50\n",
      "75/75 [==============================] - 21s 282ms/step - loss: nan - peak_signal_noise_ratio: nan - val_loss: nan - val_peak_signal_noise_ratio: nan\n",
      "Epoch 43/50\n",
      "75/75 [==============================] - 20s 273ms/step - loss: nan - peak_signal_noise_ratio: nan - val_loss: nan - val_peak_signal_noise_ratio: nan\n",
      "\n",
      "Epoch 00043: ReduceLROnPlateau reducing learning rate to 0.0002500000118743628.\n",
      "Epoch 44/50\n",
      "75/75 [==============================] - 21s 281ms/step - loss: nan - peak_signal_noise_ratio: nan - val_loss: nan - val_peak_signal_noise_ratio: nan\n",
      "Epoch 45/50\n",
      "75/75 [==============================] - 20s 272ms/step - loss: nan - peak_signal_noise_ratio: nan - val_loss: nan - val_peak_signal_noise_ratio: nan\n",
      "Epoch 46/50\n",
      "75/75 [==============================] - 21s 275ms/step - loss: nan - peak_signal_noise_ratio: nan - val_loss: nan - val_peak_signal_noise_ratio: nan\n",
      "Epoch 47/50\n",
      "75/75 [==============================] - 21s 277ms/step - loss: nan - peak_signal_noise_ratio: nan - val_loss: nan - val_peak_signal_noise_ratio: nan\n",
      "Epoch 48/50\n",
      "75/75 [==============================] - 21s 276ms/step - loss: nan - peak_signal_noise_ratio: nan - val_loss: nan - val_peak_signal_noise_ratio: nan\n",
      "Epoch 49/50\n",
      "75/75 [==============================] - 21s 279ms/step - loss: nan - peak_signal_noise_ratio: nan - val_loss: nan - val_peak_signal_noise_ratio: nan\n",
      "Epoch 50/50\n",
      "75/75 [==============================] - 21s 279ms/step - loss: nan - peak_signal_noise_ratio: nan - val_loss: nan - val_peak_signal_noise_ratio: nan\n"
     ]
    },
    {
     "data": {
      "image/png": "[encoded data removed]",
      "text/plain": [
       "<Figure size 432x288 with 1 Axes>"
      ]
     },
     "metadata": {
      "needs_background": "light"
     },
     "output_type": "display_data"
    },
    {
     "data": {
      "image/png": "[encoded data removed]",
      "text/plain": [
       "<Figure size 432x288 with 1 Axes>"
      ]
     },
     "metadata": {
      "needs_background": "light"
     },
     "output_type": "display_data"
    }
   ],
   "source": [
    "def charbonnier_loss(y_true, y_pred):\n",
    "    return tf.reduce_mean(tf.sqrt(tf.square(y_true - y_pred) + tf.square(1e-3)))\n",
    "\n",
    "\n",
    "def peak_signal_noise_ratio(y_true, y_pred):\n",
    "    return tf.image.psnr(y_pred, y_true, max_val=255.0)\n",
    "\n",
    "\n",
    "optimizer = keras.optimizers.Adam(learning_rate=1e-3)\n",
    "model.compile(\n",
    "    optimizer=optimizer, loss=charbonnier_loss, metrics=[peak_signal_noise_ratio]\n",
    ")\n",
    "\n",
    "history = model.fit(\n",
    "    train_dataset,\n",
    "    validation_data=val_dataset,\n",
    "    epochs=50,\n",
    "    callbacks=[\n",
    "        keras.callbacks.ReduceLROnPlateau(\n",
    "            monitor=\"val_peak_signal_noise_ratio\",\n",
    "            factor=0.5,\n",
    "            patience=10,\n",
    "            verbose=1,\n",
    "            min_delta=1e-7,\n",
    "            mode=\"max\",\n",
    "        )\n",
    "    ],\n",
    ")\n",
    "\n",
    "plt.plot(history.history[\"loss\"], label=\"train_loss\")\n",
    "plt.plot(history.history[\"val_loss\"], label=\"val_loss\")\n",
    "plt.xlabel(\"Epochs\")\n",
    "plt.ylabel(\"Loss\")\n",
    "plt.title(\"Train and Validation Losses Over Epochs\", fontsize=14)\n",
    "plt.legend()\n",
    "plt.grid()\n",
    "plt.show()\n",
    "\n",
    "\n",
    "plt.plot(history.history[\"peak_signal_noise_ratio\"], label=\"train_psnr\")\n",
    "plt.plot(history.history[\"val_peak_signal_noise_ratio\"], label=\"val_psnr\")\n",
    "plt.xlabel(\"Epochs\")\n",
    "plt.ylabel(\"PSNR\")\n",
    "plt.title(\"Train and Validation PSNR Over Epochs\", fontsize=14)\n",
    "plt.legend()\n",
    "plt.grid()\n",
    "plt.show()"
   ]
  },
  {
   "cell_type": "code",
   "execution_count": 14,
   "id": "439cb3b6",
   "metadata": {
    "execution": {
     "iopub.execute_input": "2022-08-03T05:12:06.299468Z",
     "iopub.status.busy": "2022-08-03T05:12:06.299035Z",
     "iopub.status.idle": "2022-08-03T05:12:09.602463Z",
     "shell.execute_reply": "2022-08-03T05:12:09.601443Z"
    },
    "papermill": {
     "duration": 3.721665,
     "end_time": "2022-08-03T05:12:09.605534",
     "exception": false,
     "start_time": "2022-08-03T05:12:05.883869",
     "status": "completed"
    },
    "tags": []
   },
   "outputs": [],
   "source": [
    "models.save_model(model,'./MIRNetH1.h5') "
   ]
  },
  {
   "cell_type": "markdown",
   "id": "07772215",
   "metadata": {
    "papermill": {
     "duration": 0.450814,
     "end_time": "2022-08-03T05:12:10.454857",
     "exception": false,
     "start_time": "2022-08-03T05:12:10.004043",
     "status": "completed"
    },
    "tags": []
   },
   "source": [
    "# Hyperparameter 2\n",
    "\n",
    "### learning rate 0.0001, SGD Optimizer & patience = 10"
   ]
  },
  {
   "cell_type": "code",
   "execution_count": 15,
   "id": "7e031a06",
   "metadata": {
    "execution": {
     "iopub.execute_input": "2022-08-03T05:12:11.271893Z",
     "iopub.status.busy": "2022-08-03T05:12:11.271497Z",
     "iopub.status.idle": "2022-08-03T05:12:21.733188Z",
     "shell.execute_reply": "2022-08-03T05:12:21.732140Z"
    },
    "papermill": {
     "duration": 10.872698,
     "end_time": "2022-08-03T05:12:21.735898",
     "exception": false,
     "start_time": "2022-08-03T05:12:10.863200",
     "status": "completed"
    },
    "tags": []
   },
   "outputs": [],
   "source": [
    "from tensorflow.keras import models, layers, regularizers\n",
    "\n",
    "model = models.load_model('../input/pretrainedh1/MIRNetH1.h5', compile=False) "
   ]
  },
  {
   "cell_type": "code",
   "execution_count": 16,
   "id": "f6b5afa9",
   "metadata": {
    "execution": {
     "iopub.execute_input": "2022-08-03T05:12:22.595614Z",
     "iopub.status.busy": "2022-08-03T05:12:22.595252Z",
     "iopub.status.idle": "2022-08-03T05:12:22.847735Z",
     "shell.execute_reply": "2022-08-03T05:12:22.846584Z"
    },
    "papermill": {
     "duration": 0.712996,
     "end_time": "2022-08-03T05:12:22.850532",
     "exception": false,
     "start_time": "2022-08-03T05:12:22.137536",
     "status": "completed"
    },
    "tags": []
   },
   "outputs": [
    {
     "name": "stdout",
     "output_type": "stream",
     "text": [
      "Train Dataset: <BatchDataset shapes: ((4, None, None, 3), (4, None, None, 3)), types: (tf.float32, tf.float32)>\n",
      "Val Dataset: <BatchDataset shapes: ((4, None, None, 3), (4, None, None, 3)), types: (tf.float32, tf.float32)>\n"
     ]
    }
   ],
   "source": [
    "random.seed(10)\n",
    "\n",
    "IMAGE_SIZE = 48\n",
    "BATCH_SIZE = 4\n",
    "MAX_TRAIN_IMAGES = 300\n",
    "\n",
    "\n",
    "def read_image(image_path):\n",
    "    image = tf.io.read_file(image_path)\n",
    "    image = tf.image.decode_png(image, channels=3)\n",
    "    image.set_shape([None, None, 3])\n",
    "    image = tf.cast(image, dtype=tf.float32) / 255.0\n",
    "    return image\n",
    "\n",
    "\n",
    "def random_crop(low_image, enhanced_image):\n",
    "    low_image_shape = tf.shape(low_image)[:2]\n",
    "    low_w = tf.random.uniform(\n",
    "        shape=(), maxval=low_image_shape[1] - IMAGE_SIZE + 1, dtype=tf.int32\n",
    "    )\n",
    "    low_h = tf.random.uniform(\n",
    "        shape=(), maxval=low_image_shape[0] - IMAGE_SIZE + 1, dtype=tf.int32\n",
    "    )\n",
    "    enhanced_w = low_w\n",
    "    enhanced_h = low_h\n",
    "    low_image_cropped = low_image[\n",
    "        low_h : low_h + IMAGE_SIZE, low_w : low_w + IMAGE_SIZE\n",
    "    ]\n",
    "    enhanced_image_cropped = enhanced_image[\n",
    "        enhanced_h : enhanced_h + IMAGE_SIZE, enhanced_w : enhanced_w + IMAGE_SIZE\n",
    "    ]\n",
    "    return low_image_cropped, enhanced_image_cropped\n",
    "\n",
    "\n",
    "def load_data(low_light_image_path, enhanced_image_path):\n",
    "    low_light_image = read_image(low_light_image_path)\n",
    "    enhanced_image = read_image(enhanced_image_path)\n",
    "    low_light_image, enhanced_image = random_crop(low_light_image, enhanced_image)\n",
    "    return low_light_image, enhanced_image\n",
    "\n",
    "\n",
    "def get_dataset(low_light_images, enhanced_images):\n",
    "    dataset = tf.data.Dataset.from_tensor_slices((low_light_images, enhanced_images))\n",
    "    dataset = dataset.map(load_data, num_parallel_calls=tf.data.AUTOTUNE)\n",
    "    dataset = dataset.batch(BATCH_SIZE, drop_remainder=True)\n",
    "    return dataset\n",
    "\n",
    "\n",
    "train_low_light_images = sorted(glob(\"../input/fer-lol/low_res/our/low/*\"))[:MAX_TRAIN_IMAGES]\n",
    "train_enhanced_images = sorted(glob(\"../input/fer-lol/low_res/our/high/*\"))[:MAX_TRAIN_IMAGES]\n",
    "\n",
    "val_low_light_images = sorted(glob(\"../input/fer-lol/low_res/eval/low/*\"))[MAX_TRAIN_IMAGES:]\n",
    "val_enhanced_images = sorted(glob(\"../input/fer-lol/low_res/eval/high/*\"))[MAX_TRAIN_IMAGES:]\n",
    "\n",
    "test_low_light_images = sorted(glob(\"../input/fer-lol/low_res/eval/low/*\"))\n",
    "test_enhanced_images = sorted(glob(\"../input/fer-lol/low_res/eval/high/*\"))\n",
    "\n",
    "\n",
    "train_dataset = get_dataset(train_low_light_images, train_enhanced_images)\n",
    "val_dataset = get_dataset(val_low_light_images, val_enhanced_images)\n",
    "\n",
    "\n",
    "print(\"Train Dataset:\", train_dataset)\n",
    "print(\"Val Dataset:\", val_dataset)"
   ]
  },
  {
   "cell_type": "code",
   "execution_count": 17,
   "id": "0f3fa38e",
   "metadata": {
    "execution": {
     "iopub.execute_input": "2022-08-03T05:12:23.669217Z",
     "iopub.status.busy": "2022-08-03T05:12:23.668014Z",
     "iopub.status.idle": "2022-08-03T05:31:48.505059Z",
     "shell.execute_reply": "2022-08-03T05:31:48.503856Z"
    },
    "papermill": {
     "duration": 1165.250639,
     "end_time": "2022-08-03T05:31:48.507547",
     "exception": false,
     "start_time": "2022-08-03T05:12:23.256908",
     "status": "completed"
    },
    "tags": []
   },
   "outputs": [
    {
     "name": "stdout",
     "output_type": "stream",
     "text": [
      "Epoch 1/50\n",
      "75/75 [==============================] - 58s 334ms/step - loss: 0.0120 - peak_signal_noise_ratio: 84.2803 - val_loss: 0.0127 - val_peak_signal_noise_ratio: 83.8208\n",
      "Epoch 2/50\n",
      "75/75 [==============================] - 20s 268ms/step - loss: 0.0119 - peak_signal_noise_ratio: 84.2852 - val_loss: 0.0127 - val_peak_signal_noise_ratio: 83.8231\n",
      "Epoch 3/50\n",
      "75/75 [==============================] - 20s 262ms/step - loss: 0.0119 - peak_signal_noise_ratio: 84.2878 - val_loss: 0.0127 - val_peak_signal_noise_ratio: 83.8250\n",
      "Epoch 4/50\n",
      "75/75 [==============================] - 20s 268ms/step - loss: 0.0119 - peak_signal_noise_ratio: 84.2901 - val_loss: 0.0127 - val_peak_signal_noise_ratio: 83.8267\n",
      "Epoch 5/50\n",
      "75/75 [==============================] - 20s 272ms/step - loss: 0.0119 - peak_signal_noise_ratio: 84.2922 - val_loss: 0.0127 - val_peak_signal_noise_ratio: 83.8281\n",
      "Epoch 6/50\n",
      "75/75 [==============================] - 19s 260ms/step - loss: 0.0119 - peak_signal_noise_ratio: 84.2941 - val_loss: 0.0127 - val_peak_signal_noise_ratio: 83.8295\n",
      "Epoch 7/50\n",
      "75/75 [==============================] - 19s 260ms/step - loss: 0.0119 - peak_signal_noise_ratio: 84.2959 - val_loss: 0.0127 - val_peak_signal_noise_ratio: 83.8307\n",
      "Epoch 8/50\n",
      "75/75 [==============================] - 20s 266ms/step - loss: 0.0119 - peak_signal_noise_ratio: 84.2975 - val_loss: 0.0127 - val_peak_signal_noise_ratio: 83.8318\n",
      "Epoch 9/50\n",
      "75/75 [==============================] - 22s 299ms/step - loss: 0.0119 - peak_signal_noise_ratio: 84.2991 - val_loss: 0.0127 - val_peak_signal_noise_ratio: 83.8328\n",
      "Epoch 10/50\n",
      "75/75 [==============================] - 20s 265ms/step - loss: 0.0119 - peak_signal_noise_ratio: 84.3005 - val_loss: 0.0127 - val_peak_signal_noise_ratio: 83.8338\n",
      "Epoch 11/50\n",
      "75/75 [==============================] - 20s 266ms/step - loss: 0.0119 - peak_signal_noise_ratio: 84.3019 - val_loss: 0.0127 - val_peak_signal_noise_ratio: 83.8346\n",
      "Epoch 12/50\n",
      "75/75 [==============================] - 19s 259ms/step - loss: 0.0119 - peak_signal_noise_ratio: 84.3032 - val_loss: 0.0127 - val_peak_signal_noise_ratio: 83.8355\n",
      "Epoch 13/50\n",
      "75/75 [==============================] - 20s 262ms/step - loss: 0.0119 - peak_signal_noise_ratio: 84.3044 - val_loss: 0.0127 - val_peak_signal_noise_ratio: 83.8363\n",
      "Epoch 14/50\n",
      "75/75 [==============================] - 20s 262ms/step - loss: 0.0119 - peak_signal_noise_ratio: 84.3056 - val_loss: 0.0127 - val_peak_signal_noise_ratio: 83.8370\n",
      "Epoch 15/50\n",
      "75/75 [==============================] - 20s 267ms/step - loss: 0.0119 - peak_signal_noise_ratio: 84.3067 - val_loss: 0.0127 - val_peak_signal_noise_ratio: 83.8377\n",
      "Epoch 16/50\n",
      "75/75 [==============================] - 20s 263ms/step - loss: 0.0119 - peak_signal_noise_ratio: 84.3077 - val_loss: 0.0127 - val_peak_signal_noise_ratio: 83.8384\n",
      "Epoch 17/50\n",
      "75/75 [==============================] - 20s 265ms/step - loss: 0.0119 - peak_signal_noise_ratio: 84.3087 - val_loss: 0.0127 - val_peak_signal_noise_ratio: 83.8390\n",
      "Epoch 18/50\n",
      "75/75 [==============================] - 20s 266ms/step - loss: 0.0119 - peak_signal_noise_ratio: 84.3096 - val_loss: 0.0127 - val_peak_signal_noise_ratio: 83.8396\n",
      "Epoch 19/50\n",
      "75/75 [==============================] - 20s 267ms/step - loss: 0.0119 - peak_signal_noise_ratio: 84.3105 - val_loss: 0.0127 - val_peak_signal_noise_ratio: 83.8402\n",
      "Epoch 20/50\n",
      "75/75 [==============================] - 20s 265ms/step - loss: 0.0119 - peak_signal_noise_ratio: 84.3114 - val_loss: 0.0127 - val_peak_signal_noise_ratio: 83.8407\n",
      "Epoch 21/50\n",
      "75/75 [==============================] - 20s 263ms/step - loss: 0.0119 - peak_signal_noise_ratio: 84.3122 - val_loss: 0.0127 - val_peak_signal_noise_ratio: 83.8412\n",
      "Epoch 22/50\n",
      "75/75 [==============================] - 20s 267ms/step - loss: 0.0119 - peak_signal_noise_ratio: 84.3130 - val_loss: 0.0127 - val_peak_signal_noise_ratio: 83.8417\n",
      "Epoch 23/50\n",
      "75/75 [==============================] - 20s 266ms/step - loss: 0.0119 - peak_signal_noise_ratio: 84.3138 - val_loss: 0.0127 - val_peak_signal_noise_ratio: 83.8422\n",
      "Epoch 24/50\n",
      "75/75 [==============================] - 19s 258ms/step - loss: 0.0119 - peak_signal_noise_ratio: 84.3145 - val_loss: 0.0127 - val_peak_signal_noise_ratio: 83.8426\n",
      "Epoch 25/50\n",
      "75/75 [==============================] - 20s 270ms/step - loss: 0.0119 - peak_signal_noise_ratio: 84.3152 - val_loss: 0.0127 - val_peak_signal_noise_ratio: 83.8430\n",
      "Epoch 26/50\n",
      "75/75 [==============================] - 20s 262ms/step - loss: 0.0119 - peak_signal_noise_ratio: 84.3158 - val_loss: 0.0127 - val_peak_signal_noise_ratio: 83.8435\n",
      "Epoch 27/50\n",
      "75/75 [==============================] - 21s 269ms/step - loss: 0.0119 - peak_signal_noise_ratio: 84.3165 - val_loss: 0.0127 - val_peak_signal_noise_ratio: 83.8439\n",
      "Epoch 28/50\n",
      "75/75 [==============================] - 20s 266ms/step - loss: 0.0119 - peak_signal_noise_ratio: 84.3171 - val_loss: 0.0127 - val_peak_signal_noise_ratio: 83.8442\n",
      "Epoch 29/50\n",
      "75/75 [==============================] - 20s 270ms/step - loss: 0.0119 - peak_signal_noise_ratio: 84.3177 - val_loss: 0.0127 - val_peak_signal_noise_ratio: 83.8446\n",
      "Epoch 30/50\n",
      "75/75 [==============================] - 20s 265ms/step - loss: 0.0119 - peak_signal_noise_ratio: 84.3183 - val_loss: 0.0127 - val_peak_signal_noise_ratio: 83.8450\n",
      "Epoch 31/50\n",
      "75/75 [==============================] - 22s 297ms/step - loss: 0.0119 - peak_signal_noise_ratio: 84.3189 - val_loss: 0.0127 - val_peak_signal_noise_ratio: 83.8453\n",
      "Epoch 32/50\n",
      "75/75 [==============================] - 20s 272ms/step - loss: 0.0119 - peak_signal_noise_ratio: 84.3194 - val_loss: 0.0127 - val_peak_signal_noise_ratio: 83.8456\n",
      "Epoch 33/50\n",
      "75/75 [==============================] - 20s 268ms/step - loss: 0.0119 - peak_signal_noise_ratio: 84.3199 - val_loss: 0.0127 - val_peak_signal_noise_ratio: 83.8459\n",
      "Epoch 34/50\n",
      "75/75 [==============================] - 20s 266ms/step - loss: 0.0119 - peak_signal_noise_ratio: 84.3204 - val_loss: 0.0127 - val_peak_signal_noise_ratio: 83.8462\n",
      "Epoch 35/50\n",
      "75/75 [==============================] - 20s 267ms/step - loss: 0.0119 - peak_signal_noise_ratio: 84.3209 - val_loss: 0.0127 - val_peak_signal_noise_ratio: 83.8465\n",
      "Epoch 36/50\n",
      "75/75 [==============================] - 20s 274ms/step - loss: 0.0119 - peak_signal_noise_ratio: 84.3214 - val_loss: 0.0127 - val_peak_signal_noise_ratio: 83.8468\n",
      "Epoch 37/50\n",
      "75/75 [==============================] - 20s 264ms/step - loss: 0.0119 - peak_signal_noise_ratio: 84.3219 - val_loss: 0.0127 - val_peak_signal_noise_ratio: 83.8471\n",
      "Epoch 38/50\n",
      "75/75 [==============================] - 20s 268ms/step - loss: 0.0119 - peak_signal_noise_ratio: 84.3223 - val_loss: 0.0127 - val_peak_signal_noise_ratio: 83.8473\n",
      "Epoch 39/50\n",
      "75/75 [==============================] - 20s 263ms/step - loss: 0.0119 - peak_signal_noise_ratio: 84.3227 - val_loss: 0.0127 - val_peak_signal_noise_ratio: 83.8476\n",
      "Epoch 40/50\n",
      "75/75 [==============================] - 21s 275ms/step - loss: 0.0119 - peak_signal_noise_ratio: 84.3231 - val_loss: 0.0127 - val_peak_signal_noise_ratio: 83.8478\n",
      "Epoch 41/50\n",
      "75/75 [==============================] - 20s 263ms/step - loss: 0.0119 - peak_signal_noise_ratio: 84.3236 - val_loss: 0.0127 - val_peak_signal_noise_ratio: 83.8481\n",
      "Epoch 42/50\n",
      "75/75 [==============================] - 20s 266ms/step - loss: 0.0119 - peak_signal_noise_ratio: 84.3240 - val_loss: 0.0127 - val_peak_signal_noise_ratio: 83.8483\n",
      "Epoch 43/50\n",
      "75/75 [==============================] - 20s 266ms/step - loss: 0.0119 - peak_signal_noise_ratio: 84.3244 - val_loss: 0.0126 - val_peak_signal_noise_ratio: 83.8485\n",
      "Epoch 44/50\n",
      "75/75 [==============================] - 20s 267ms/step - loss: 0.0119 - peak_signal_noise_ratio: 84.3247 - val_loss: 0.0126 - val_peak_signal_noise_ratio: 83.8487\n",
      "Epoch 45/50\n",
      "75/75 [==============================] - 20s 262ms/step - loss: 0.0119 - peak_signal_noise_ratio: 84.3251 - val_loss: 0.0126 - val_peak_signal_noise_ratio: 83.8490\n",
      "Epoch 46/50\n",
      "75/75 [==============================] - 21s 274ms/step - loss: 0.0119 - peak_signal_noise_ratio: 84.3254 - val_loss: 0.0126 - val_peak_signal_noise_ratio: 83.8492\n",
      "Epoch 47/50\n",
      "75/75 [==============================] - 20s 272ms/step - loss: 0.0119 - peak_signal_noise_ratio: 84.3258 - val_loss: 0.0126 - val_peak_signal_noise_ratio: 83.8494\n",
      "Epoch 48/50\n",
      "75/75 [==============================] - 20s 264ms/step - loss: 0.0119 - peak_signal_noise_ratio: 84.3261 - val_loss: 0.0126 - val_peak_signal_noise_ratio: 83.8496\n",
      "Epoch 49/50\n",
      "75/75 [==============================] - 20s 267ms/step - loss: 0.0119 - peak_signal_noise_ratio: 84.3265 - val_loss: 0.0126 - val_peak_signal_noise_ratio: 83.8498\n",
      "Epoch 50/50\n",
      "75/75 [==============================] - 20s 270ms/step - loss: 0.0119 - peak_signal_noise_ratio: 84.3268 - val_loss: 0.0126 - val_peak_signal_noise_ratio: 83.8500\n"
     ]
    },
    {
     "data": {
      "image/png": "[encoded data removed]",
      "text/plain": [
       "<Figure size 432x288 with 1 Axes>"
      ]
     },
     "metadata": {
      "needs_background": "light"
     },
     "output_type": "display_data"
    },
    {
     "data": {
      "image/png": "[encoded data removed]",
      "text/plain": [
       "<Figure size 432x288 with 1 Axes>"
      ]
     },
     "metadata": {
      "needs_background": "light"
     },
     "output_type": "display_data"
    }
   ],
   "source": [
    "def charbonnier_loss(y_true, y_pred):\n",
    "    return tf.reduce_mean(tf.sqrt(tf.square(y_true - y_pred) + tf.square(1e-3)))\n",
    "\n",
    "\n",
    "def peak_signal_noise_ratio(y_true, y_pred):\n",
    "    return tf.image.psnr(y_pred, y_true, max_val=255.0)\n",
    "\n",
    "\n",
    "optimizer = keras.optimizers.SGD(learning_rate=1e-4)\n",
    "model.compile(\n",
    "    optimizer=optimizer, loss=charbonnier_loss, metrics=[peak_signal_noise_ratio]\n",
    ")\n",
    "\n",
    "history = model.fit(\n",
    "    train_dataset,\n",
    "    validation_data=val_dataset,\n",
    "    epochs=50,\n",
    "    callbacks=[\n",
    "        keras.callbacks.ReduceLROnPlateau(\n",
    "            monitor=\"val_peak_signal_noise_ratio\",\n",
    "            factor=0.5,\n",
    "            patience=10,\n",
    "            verbose=1,\n",
    "            min_delta=1e-7,\n",
    "            mode=\"max\",\n",
    "        )\n",
    "    ],\n",
    ")\n",
    "\n",
    "plt.plot(history.history[\"loss\"], label=\"train_loss\")\n",
    "plt.plot(history.history[\"val_loss\"], label=\"val_loss\")\n",
    "plt.xlabel(\"Epochs\")\n",
    "plt.ylabel(\"Loss\")\n",
    "plt.title(\"Train and Validation Losses Over Epochs\", fontsize=14)\n",
    "plt.legend()\n",
    "plt.grid()\n",
    "plt.show()\n",
    "\n",
    "\n",
    "plt.plot(history.history[\"peak_signal_noise_ratio\"], label=\"train_psnr\")\n",
    "plt.plot(history.history[\"val_peak_signal_noise_ratio\"], label=\"val_psnr\")\n",
    "plt.xlabel(\"Epochs\")\n",
    "plt.ylabel(\"PSNR\")\n",
    "plt.title(\"Train and Validation PSNR Over Epochs\", fontsize=14)\n",
    "plt.legend()\n",
    "plt.grid()\n",
    "plt.show()"
   ]
  },
  {
   "cell_type": "code",
   "execution_count": 18,
   "id": "1e4119bf",
   "metadata": {
    "execution": {
     "iopub.execute_input": "2022-08-03T05:31:49.792511Z",
     "iopub.status.busy": "2022-08-03T05:31:49.792145Z",
     "iopub.status.idle": "2022-08-03T05:31:51.191121Z",
     "shell.execute_reply": "2022-08-03T05:31:51.190024Z"
    },
    "papermill": {
     "duration": 2.012094,
     "end_time": "2022-08-03T05:31:51.194632",
     "exception": false,
     "start_time": "2022-08-03T05:31:49.182538",
     "status": "completed"
    },
    "tags": []
   },
   "outputs": [],
   "source": [
    "models.save_model(model,'./MIRNetH2.h5') "
   ]
  },
  {
   "cell_type": "markdown",
   "id": "589ad69b",
   "metadata": {
    "papermill": {
     "duration": 0.606072,
     "end_time": "2022-08-03T05:31:52.461329",
     "exception": false,
     "start_time": "2022-08-03T05:31:51.855257",
     "status": "completed"
    },
    "tags": []
   },
   "source": [
    "# Hyperparameter 3\n",
    "\n",
    "### learning rate 0.001, SGD Optimizer & patience = 10"
   ]
  },
  {
   "cell_type": "code",
   "execution_count": 19,
   "id": "67d8d985",
   "metadata": {
    "execution": {
     "iopub.execute_input": "2022-08-03T05:31:53.747313Z",
     "iopub.status.busy": "2022-08-03T05:31:53.746959Z",
     "iopub.status.idle": "2022-08-03T05:31:53.973528Z",
     "shell.execute_reply": "2022-08-03T05:31:53.972393Z"
    },
    "papermill": {
     "duration": 0.902314,
     "end_time": "2022-08-03T05:31:53.976200",
     "exception": false,
     "start_time": "2022-08-03T05:31:53.073886",
     "status": "completed"
    },
    "tags": []
   },
   "outputs": [
    {
     "name": "stdout",
     "output_type": "stream",
     "text": [
      "Train Dataset: <BatchDataset shapes: ((4, None, None, 3), (4, None, None, 3)), types: (tf.float32, tf.float32)>\n",
      "Val Dataset: <BatchDataset shapes: ((4, None, None, 3), (4, None, None, 3)), types: (tf.float32, tf.float32)>\n"
     ]
    }
   ],
   "source": [
    "random.seed(10)\n",
    "\n",
    "IMAGE_SIZE = 48\n",
    "BATCH_SIZE = 4\n",
    "MAX_TRAIN_IMAGES = 300\n",
    "\n",
    "\n",
    "def read_image(image_path):\n",
    "    image = tf.io.read_file(image_path)\n",
    "    image = tf.image.decode_png(image, channels=3)\n",
    "    image.set_shape([None, None, 3])\n",
    "    image = tf.cast(image, dtype=tf.float32) / 255.0\n",
    "    return image\n",
    "\n",
    "\n",
    "def random_crop(low_image, enhanced_image):\n",
    "    low_image_shape = tf.shape(low_image)[:2]\n",
    "    low_w = tf.random.uniform(\n",
    "        shape=(), maxval=low_image_shape[1] - IMAGE_SIZE + 1, dtype=tf.int32\n",
    "    )\n",
    "    low_h = tf.random.uniform(\n",
    "        shape=(), maxval=low_image_shape[0] - IMAGE_SIZE + 1, dtype=tf.int32\n",
    "    )\n",
    "    enhanced_w = low_w\n",
    "    enhanced_h = low_h\n",
    "    low_image_cropped = low_image[\n",
    "        low_h : low_h + IMAGE_SIZE, low_w : low_w + IMAGE_SIZE\n",
    "    ]\n",
    "    enhanced_image_cropped = enhanced_image[\n",
    "        enhanced_h : enhanced_h + IMAGE_SIZE, enhanced_w : enhanced_w + IMAGE_SIZE\n",
    "    ]\n",
    "    return low_image_cropped, enhanced_image_cropped\n",
    "\n",
    "\n",
    "def load_data(low_light_image_path, enhanced_image_path):\n",
    "    low_light_image = read_image(low_light_image_path)\n",
    "    enhanced_image = read_image(enhanced_image_path)\n",
    "    low_light_image, enhanced_image = random_crop(low_light_image, enhanced_image)\n",
    "    return low_light_image, enhanced_image\n",
    "\n",
    "\n",
    "def get_dataset(low_light_images, enhanced_images):\n",
    "    dataset = tf.data.Dataset.from_tensor_slices((low_light_images, enhanced_images))\n",
    "    dataset = dataset.map(load_data, num_parallel_calls=tf.data.AUTOTUNE)\n",
    "    dataset = dataset.batch(BATCH_SIZE, drop_remainder=True)\n",
    "    return dataset\n",
    "\n",
    "\n",
    "train_low_light_images = sorted(glob(\"../input/fer-lol/low_res/our/low/*\"))[:MAX_TRAIN_IMAGES]\n",
    "train_enhanced_images = sorted(glob(\"../input/fer-lol/low_res/our/high/*\"))[:MAX_TRAIN_IMAGES]\n",
    "\n",
    "val_low_light_images = sorted(glob(\"../input/fer-lol/low_res/eval/low/*\"))[MAX_TRAIN_IMAGES:]\n",
    "val_enhanced_images = sorted(glob(\"../input/fer-lol/low_res/eval/high/*\"))[MAX_TRAIN_IMAGES:]\n",
    "\n",
    "test_low_light_images = sorted(glob(\"../input/fer-lol/low_res/eval/low/*\"))\n",
    "test_enhanced_images = sorted(glob(\"../input/fer-lol/low_res/eval/high/*\"))\n",
    "\n",
    "\n",
    "train_dataset = get_dataset(train_low_light_images, train_enhanced_images)\n",
    "val_dataset = get_dataset(val_low_light_images, val_enhanced_images)\n",
    "\n",
    "\n",
    "print(\"Train Dataset:\", train_dataset)\n",
    "print(\"Val Dataset:\", val_dataset)"
   ]
  },
  {
   "cell_type": "code",
   "execution_count": 20,
   "id": "8c795ae9",
   "metadata": {
    "execution": {
     "iopub.execute_input": "2022-08-03T05:31:55.255542Z",
     "iopub.status.busy": "2022-08-03T05:31:55.255108Z",
     "iopub.status.idle": "2022-08-03T05:51:13.988645Z",
     "shell.execute_reply": "2022-08-03T05:51:13.987740Z"
    },
    "papermill": {
     "duration": 1159.409752,
     "end_time": "2022-08-03T05:51:13.990862",
     "exception": false,
     "start_time": "2022-08-03T05:31:54.581110",
     "status": "completed"
    },
    "tags": []
   },
   "outputs": [
    {
     "name": "stdout",
     "output_type": "stream",
     "text": [
      "Epoch 1/50\n",
      "75/75 [==============================] - 60s 378ms/step - loss: 0.0119 - peak_signal_noise_ratio: 84.3254 - val_loss: 0.0127 - val_peak_signal_noise_ratio: 83.8205\n",
      "Epoch 2/50\n",
      "75/75 [==============================] - 20s 270ms/step - loss: 0.0119 - peak_signal_noise_ratio: 84.3275 - val_loss: 0.0127 - val_peak_signal_noise_ratio: 83.8226\n",
      "Epoch 3/50\n",
      "75/75 [==============================] - 20s 263ms/step - loss: 0.0119 - peak_signal_noise_ratio: 84.3298 - val_loss: 0.0127 - val_peak_signal_noise_ratio: 83.8243\n",
      "Epoch 4/50\n",
      "75/75 [==============================] - 20s 263ms/step - loss: 0.0118 - peak_signal_noise_ratio: 84.3317 - val_loss: 0.0127 - val_peak_signal_noise_ratio: 83.8259\n",
      "Epoch 5/50\n",
      "75/75 [==============================] - 20s 267ms/step - loss: 0.0118 - peak_signal_noise_ratio: 84.3334 - val_loss: 0.0127 - val_peak_signal_noise_ratio: 83.8273\n",
      "Epoch 6/50\n",
      "75/75 [==============================] - 20s 265ms/step - loss: 0.0118 - peak_signal_noise_ratio: 84.3349 - val_loss: 0.0127 - val_peak_signal_noise_ratio: 83.8287\n",
      "Epoch 7/50\n",
      "75/75 [==============================] - 20s 269ms/step - loss: 0.0118 - peak_signal_noise_ratio: 84.3363 - val_loss: 0.0127 - val_peak_signal_noise_ratio: 83.8299\n",
      "Epoch 8/50\n",
      "75/75 [==============================] - 20s 264ms/step - loss: 0.0118 - peak_signal_noise_ratio: 84.3376 - val_loss: 0.0127 - val_peak_signal_noise_ratio: 83.8310\n",
      "Epoch 9/50\n",
      "75/75 [==============================] - 20s 270ms/step - loss: 0.0118 - peak_signal_noise_ratio: 84.3388 - val_loss: 0.0127 - val_peak_signal_noise_ratio: 83.8320\n",
      "Epoch 10/50\n",
      "75/75 [==============================] - 20s 263ms/step - loss: 0.0118 - peak_signal_noise_ratio: 84.3400 - val_loss: 0.0127 - val_peak_signal_noise_ratio: 83.8331\n",
      "Epoch 11/50\n",
      "75/75 [==============================] - 20s 267ms/step - loss: 0.0118 - peak_signal_noise_ratio: 84.3410 - val_loss: 0.0127 - val_peak_signal_noise_ratio: 83.8340\n",
      "Epoch 12/50\n",
      "75/75 [==============================] - 20s 266ms/step - loss: 0.0118 - peak_signal_noise_ratio: 84.3420 - val_loss: 0.0126 - val_peak_signal_noise_ratio: 83.8349\n",
      "Epoch 13/50\n",
      "75/75 [==============================] - 20s 266ms/step - loss: 0.0118 - peak_signal_noise_ratio: 84.3430 - val_loss: 0.0126 - val_peak_signal_noise_ratio: 83.8358\n",
      "Epoch 14/50\n",
      "75/75 [==============================] - 20s 262ms/step - loss: 0.0118 - peak_signal_noise_ratio: 84.3439 - val_loss: 0.0126 - val_peak_signal_noise_ratio: 83.8366\n",
      "Epoch 15/50\n",
      "75/75 [==============================] - 20s 270ms/step - loss: 0.0118 - peak_signal_noise_ratio: 84.3447 - val_loss: 0.0126 - val_peak_signal_noise_ratio: 83.8374\n",
      "Epoch 16/50\n",
      "75/75 [==============================] - 19s 260ms/step - loss: 0.0118 - peak_signal_noise_ratio: 84.3455 - val_loss: 0.0126 - val_peak_signal_noise_ratio: 83.8382\n",
      "Epoch 17/50\n",
      "75/75 [==============================] - 23s 302ms/step - loss: 0.0118 - peak_signal_noise_ratio: 84.3463 - val_loss: 0.0126 - val_peak_signal_noise_ratio: 83.8390\n",
      "Epoch 18/50\n",
      "75/75 [==============================] - 19s 260ms/step - loss: 0.0118 - peak_signal_noise_ratio: 84.3471 - val_loss: 0.0126 - val_peak_signal_noise_ratio: 83.8397\n",
      "Epoch 19/50\n",
      "75/75 [==============================] - 20s 272ms/step - loss: 0.0118 - peak_signal_noise_ratio: 84.3478 - val_loss: 0.0126 - val_peak_signal_noise_ratio: 83.8404\n",
      "Epoch 20/50\n",
      "75/75 [==============================] - 20s 264ms/step - loss: 0.0118 - peak_signal_noise_ratio: 84.3486 - val_loss: 0.0126 - val_peak_signal_noise_ratio: 83.8410\n",
      "Epoch 21/50\n",
      "75/75 [==============================] - 21s 274ms/step - loss: 0.0118 - peak_signal_noise_ratio: 84.3492 - val_loss: 0.0126 - val_peak_signal_noise_ratio: 83.8416\n",
      "Epoch 22/50\n",
      "75/75 [==============================] - 20s 263ms/step - loss: 0.0118 - peak_signal_noise_ratio: 84.3499 - val_loss: 0.0126 - val_peak_signal_noise_ratio: 83.8423\n",
      "Epoch 23/50\n",
      "75/75 [==============================] - 20s 269ms/step - loss: 0.0118 - peak_signal_noise_ratio: 84.3506 - val_loss: 0.0126 - val_peak_signal_noise_ratio: 83.8430\n",
      "Epoch 24/50\n",
      "75/75 [==============================] - 20s 272ms/step - loss: 0.0118 - peak_signal_noise_ratio: 84.3512 - val_loss: 0.0126 - val_peak_signal_noise_ratio: 83.8436\n",
      "Epoch 25/50\n",
      "75/75 [==============================] - 20s 265ms/step - loss: 0.0118 - peak_signal_noise_ratio: 84.3518 - val_loss: 0.0126 - val_peak_signal_noise_ratio: 83.8441\n",
      "Epoch 26/50\n",
      "75/75 [==============================] - 20s 267ms/step - loss: 0.0118 - peak_signal_noise_ratio: 84.3523 - val_loss: 0.0126 - val_peak_signal_noise_ratio: 83.8447\n",
      "Epoch 27/50\n",
      "75/75 [==============================] - 20s 267ms/step - loss: 0.0118 - peak_signal_noise_ratio: 84.3529 - val_loss: 0.0126 - val_peak_signal_noise_ratio: 83.8452\n",
      "Epoch 28/50\n",
      "75/75 [==============================] - 20s 269ms/step - loss: 0.0118 - peak_signal_noise_ratio: 84.3535 - val_loss: 0.0126 - val_peak_signal_noise_ratio: 83.8457\n",
      "Epoch 29/50\n",
      "75/75 [==============================] - 20s 271ms/step - loss: 0.0118 - peak_signal_noise_ratio: 84.3540 - val_loss: 0.0126 - val_peak_signal_noise_ratio: 83.8463\n",
      "Epoch 30/50\n",
      "75/75 [==============================] - 20s 263ms/step - loss: 0.0118 - peak_signal_noise_ratio: 84.3546 - val_loss: 0.0126 - val_peak_signal_noise_ratio: 83.8468\n",
      "Epoch 31/50\n",
      "75/75 [==============================] - 20s 266ms/step - loss: 0.0118 - peak_signal_noise_ratio: 84.3550 - val_loss: 0.0126 - val_peak_signal_noise_ratio: 83.8473\n",
      "Epoch 32/50\n",
      "75/75 [==============================] - 20s 269ms/step - loss: 0.0118 - peak_signal_noise_ratio: 84.3556 - val_loss: 0.0126 - val_peak_signal_noise_ratio: 83.8478\n",
      "Epoch 33/50\n",
      "75/75 [==============================] - 20s 261ms/step - loss: 0.0118 - peak_signal_noise_ratio: 84.3560 - val_loss: 0.0126 - val_peak_signal_noise_ratio: 83.8483\n",
      "Epoch 34/50\n",
      "75/75 [==============================] - 21s 278ms/step - loss: 0.0118 - peak_signal_noise_ratio: 84.3565 - val_loss: 0.0126 - val_peak_signal_noise_ratio: 83.8488\n",
      "Epoch 35/50\n",
      "75/75 [==============================] - 21s 276ms/step - loss: 0.0118 - peak_signal_noise_ratio: 84.3570 - val_loss: 0.0126 - val_peak_signal_noise_ratio: 83.8493\n",
      "Epoch 36/50\n",
      "75/75 [==============================] - 20s 271ms/step - loss: 0.0118 - peak_signal_noise_ratio: 84.3575 - val_loss: 0.0126 - val_peak_signal_noise_ratio: 83.8497\n",
      "Epoch 37/50\n",
      "75/75 [==============================] - 22s 293ms/step - loss: 0.0118 - peak_signal_noise_ratio: 84.3579 - val_loss: 0.0126 - val_peak_signal_noise_ratio: 83.8502\n",
      "Epoch 38/50\n",
      "75/75 [==============================] - 20s 259ms/step - loss: 0.0118 - peak_signal_noise_ratio: 84.3584 - val_loss: 0.0126 - val_peak_signal_noise_ratio: 83.8507\n",
      "Epoch 39/50\n",
      "75/75 [==============================] - 20s 271ms/step - loss: 0.0118 - peak_signal_noise_ratio: 84.3588 - val_loss: 0.0126 - val_peak_signal_noise_ratio: 83.8511\n",
      "Epoch 40/50\n",
      "75/75 [==============================] - 20s 271ms/step - loss: 0.0118 - peak_signal_noise_ratio: 84.3592 - val_loss: 0.0126 - val_peak_signal_noise_ratio: 83.8515\n",
      "Epoch 41/50\n",
      "75/75 [==============================] - 20s 269ms/step - loss: 0.0118 - peak_signal_noise_ratio: 84.3597 - val_loss: 0.0126 - val_peak_signal_noise_ratio: 83.8520\n",
      "Epoch 42/50\n",
      "75/75 [==============================] - 20s 268ms/step - loss: 0.0118 - peak_signal_noise_ratio: 84.3601 - val_loss: 0.0126 - val_peak_signal_noise_ratio: 83.8524\n",
      "Epoch 43/50\n",
      "75/75 [==============================] - 19s 260ms/step - loss: 0.0118 - peak_signal_noise_ratio: 84.3605 - val_loss: 0.0126 - val_peak_signal_noise_ratio: 83.8528\n",
      "Epoch 44/50\n",
      "75/75 [==============================] - 21s 277ms/step - loss: 0.0118 - peak_signal_noise_ratio: 84.3609 - val_loss: 0.0126 - val_peak_signal_noise_ratio: 83.8532\n",
      "Epoch 45/50\n",
      "75/75 [==============================] - 20s 264ms/step - loss: 0.0118 - peak_signal_noise_ratio: 84.3613 - val_loss: 0.0126 - val_peak_signal_noise_ratio: 83.8536\n",
      "Epoch 46/50\n",
      "75/75 [==============================] - 20s 272ms/step - loss: 0.0118 - peak_signal_noise_ratio: 84.3617 - val_loss: 0.0126 - val_peak_signal_noise_ratio: 83.8539\n",
      "Epoch 47/50\n",
      "75/75 [==============================] - 20s 270ms/step - loss: 0.0118 - peak_signal_noise_ratio: 84.3621 - val_loss: 0.0126 - val_peak_signal_noise_ratio: 83.8543\n",
      "Epoch 48/50\n",
      "75/75 [==============================] - 20s 262ms/step - loss: 0.0118 - peak_signal_noise_ratio: 84.3625 - val_loss: 0.0126 - val_peak_signal_noise_ratio: 83.8547\n",
      "Epoch 49/50\n",
      "75/75 [==============================] - 20s 273ms/step - loss: 0.0118 - peak_signal_noise_ratio: 84.3628 - val_loss: 0.0126 - val_peak_signal_noise_ratio: 83.8550\n",
      "Epoch 50/50\n",
      "75/75 [==============================] - 20s 263ms/step - loss: 0.0118 - peak_signal_noise_ratio: 84.3632 - val_loss: 0.0126 - val_peak_signal_noise_ratio: 83.8554\n"
     ]
    },
    {
     "data": {
      "image/png": "[encoded data removed]",
      "text/plain": [
       "<Figure size 432x288 with 1 Axes>"
      ]
     },
     "metadata": {
      "needs_background": "light"
     },
     "output_type": "display_data"
    },
    {
     "data": {
      "image/png": "[encoded data removed]",
      "text/plain": [
       "<Figure size 432x288 with 1 Axes>"
      ]
     },
     "metadata": {
      "needs_background": "light"
     },
     "output_type": "display_data"
    }
   ],
   "source": [
    "def charbonnier_loss(y_true, y_pred):\n",
    "    return tf.reduce_mean(tf.sqrt(tf.square(y_true - y_pred) + tf.square(1e-3)))\n",
    "\n",
    "\n",
    "def peak_signal_noise_ratio(y_true, y_pred):\n",
    "    return tf.image.psnr(y_pred, y_true, max_val=255.0)\n",
    "\n",
    "\n",
    "optimizer = keras.optimizers.SGD(learning_rate=1e-3)\n",
    "model.compile(\n",
    "    optimizer=optimizer, loss=charbonnier_loss, metrics=[peak_signal_noise_ratio]\n",
    ")\n",
    "\n",
    "history = model.fit(\n",
    "    train_dataset,\n",
    "    validation_data=val_dataset,\n",
    "    epochs=50,\n",
    "    callbacks=[\n",
    "        keras.callbacks.ReduceLROnPlateau(\n",
    "            monitor=\"val_peak_signal_noise_ratio\",\n",
    "            factor=0.5,\n",
    "            patience=10,\n",
    "            verbose=1,\n",
    "            min_delta=1e-7,\n",
    "            mode=\"max\",\n",
    "        )\n",
    "    ],\n",
    ")\n",
    "\n",
    "plt.plot(history.history[\"loss\"], label=\"train_loss\")\n",
    "plt.plot(history.history[\"val_loss\"], label=\"val_loss\")\n",
    "plt.xlabel(\"Epochs\")\n",
    "plt.ylabel(\"Loss\")\n",
    "plt.title(\"Train and Validation Losses Over Epochs\", fontsize=14)\n",
    "plt.legend()\n",
    "plt.grid()\n",
    "plt.show()\n",
    "\n",
    "\n",
    "plt.plot(history.history[\"peak_signal_noise_ratio\"], label=\"train_psnr\")\n",
    "plt.plot(history.history[\"val_peak_signal_noise_ratio\"], label=\"val_psnr\")\n",
    "plt.xlabel(\"Epochs\")\n",
    "plt.ylabel(\"PSNR\")\n",
    "plt.title(\"Train and Validation PSNR Over Epochs\", fontsize=14)\n",
    "plt.legend()\n",
    "plt.grid()\n",
    "plt.show()"
   ]
  },
  {
   "cell_type": "code",
   "execution_count": 21,
   "id": "c3d45bce",
   "metadata": {
    "execution": {
     "iopub.execute_input": "2022-08-03T05:51:15.718392Z",
     "iopub.status.busy": "2022-08-03T05:51:15.717780Z",
     "iopub.status.idle": "2022-08-03T05:51:17.238422Z",
     "shell.execute_reply": "2022-08-03T05:51:17.237356Z"
    },
    "papermill": {
     "duration": 2.426888,
     "end_time": "2022-08-03T05:51:17.242120",
     "exception": false,
     "start_time": "2022-08-03T05:51:14.815232",
     "status": "completed"
    },
    "tags": []
   },
   "outputs": [],
   "source": [
    "models.save_model(model,'./MIRNetH3.h5') "
   ]
  }
 ],
 "metadata": {
  "kernelspec": {
   "display_name": "Python 3",
   "language": "python",
   "name": "python3"
  },
  "language_info": {
   "codemirror_mode": {
    "name": "ipython",
    "version": 3
   },
   "file_extension": ".py",
   "mimetype": "text/x-python",
   "name": "python",
   "nbconvert_exporter": "python",
   "pygments_lexer": "ipython3",
   "version": "3.7.12"
  },
  "papermill": {
   "default_parameters": {},
   "duration": 5882.078747,
   "end_time": "2022-08-03T05:51:20.942406",
   "environment_variables": {},
   "exception": null,
   "input_path": "__notebook__.ipynb",
   "output_path": "__notebook__.ipynb",
   "parameters": {},
   "start_time": "2022-08-03T04:13:18.863659",
   "version": "2.3.4"
  }
 },
 "nbformat": 4,
 "nbformat_minor": 5
}
